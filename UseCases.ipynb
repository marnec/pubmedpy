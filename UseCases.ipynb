{
 "cells": [
  {
   "cell_type": "code",
   "execution_count": 2,
   "metadata": {
    "slideshow": {
     "slide_type": "skip"
    }
   },
   "outputs": [],
   "source": [
    "import importlib\n",
    "import pubmedpy as pm\n",
    "from article import Figure\n",
    "import itertools\n",
    "import pandas as pd\n",
    "import matplotlib.pyplot as plt\n",
    "import pprint\n",
    "\n",
    "from IPython.display import IFrame\n",
    "import warnings\n",
    "warnings.filterwarnings(\"ignore\")"
   ]
  },
  {
   "cell_type": "markdown",
   "metadata": {},
   "source": [
    "# PubMedPy\n",
    "## structured parsing of ePMC XML full-text articles "
   ]
  },
  {
   "cell_type": "markdown",
   "metadata": {
    "slideshow": {
     "slide_type": "slide"
    }
   },
   "source": [
    "Scientific articles are available PDF format.\n",
    "\n",
    "\n",
    "Millions of articles have been published and no human being can never hope to read even a small fraction of them.\n",
    "\n",
    "\n",
    "Most of the scientific knowledge is beyond the reach of scientists"
   ]
  },
  {
   "cell_type": "code",
   "execution_count": 3,
   "metadata": {},
   "outputs": [
    {
     "data": {
      "text/html": [
       "\n",
       "        <iframe\n",
       "            width=\"1100\"\n",
       "            height=\"600\"\n",
       "            src=\"data/btx590.pdf\"\n",
       "            frameborder=\"0\"\n",
       "            allowfullscreen\n",
       "        ></iframe>\n",
       "        "
      ],
      "text/plain": [
       "<IPython.lib.display.IFrame at 0x7f2e986122e8>"
      ]
     },
     "execution_count": 3,
     "metadata": {},
     "output_type": "execute_result"
    }
   ],
   "source": [
    "IFrame(\"data/btx590.pdf\", width=1100, height=600)"
   ]
  },
  {
   "cell_type": "markdown",
   "metadata": {
    "slideshow": {
     "slide_type": "subslide"
    }
   },
   "source": [
    "*  PDF encodes for graphical elements\n",
    "    * Perfect for editorial purposes (visual consistency)\n",
    "    * Perfectly human-readable\n",
    "    * **Garbage** for a machine"
   ]
  },
  {
   "cell_type": "markdown",
   "metadata": {
    "slideshow": {
     "slide_type": "subslide"
    }
   },
   "source": [
    "In 2003 NLM released the [Journal Publishing Tag Set Version 1.0](https://dtd.nlm.nih.gov/publishing/1.0/) that has now reached its [version 3.0](https://dtd.nlm.nih.gov/publishing/3.0/)\n",
    "\n",
    "* It's an XML specification to regularize and control journal articles content"
   ]
  },
  {
   "cell_type": "markdown",
   "metadata": {
    "slideshow": {
     "slide_type": "fragment"
    }
   },
   "source": [
    "* Eurore PMC stores all of its articles in XMLs compiled following these specifications"
   ]
  },
  {
   "cell_type": "markdown",
   "metadata": {
    "slideshow": {
     "slide_type": "subslide"
    }
   },
   "source": [
    "## 4.5 millions full text articles\n",
    "At the time of writing ePMC allows bulk download of more than 4 million full-text articles"
   ]
  },
  {
   "cell_type": "markdown",
   "metadata": {
    "slideshow": {
     "slide_type": "slide"
    }
   },
   "source": [
    "## The Problem"
   ]
  },
  {
   "cell_type": "markdown",
   "metadata": {
    "slideshow": {
     "slide_type": "fragment"
    }
   },
   "source": [
    "The tag set encodes the possible elements a small amount of costraints\n",
    "\n",
    "This means:\n",
    "* An article can have elements arbitrarily ordered\n",
    "* An article can have elements (almost) arbitrarily nested"
   ]
  },
  {
   "cell_type": "markdown",
   "metadata": {
    "slideshow": {
     "slide_type": "subslide"
    }
   },
   "source": [
    "The tag set is similar to lego pieces. It defines some rules on how to combine the elements\n",
    "\n",
    "![legopieces](data/lego-pieces.png)"
   ]
  },
  {
   "cell_type": "markdown",
   "metadata": {
    "slideshow": {
     "slide_type": "subslide"
    }
   },
   "source": [
    "But the number and complexity of possible combinations is infinite.\n",
    "\n",
    "![legoexamples](data/lego-examples.png)"
   ]
  },
  {
   "cell_type": "markdown",
   "metadata": {
    "slideshow": {
     "slide_type": "subslide"
    }
   },
   "source": [
    "Hierarchy of Journal tag set 2.3 in a directed graph\n",
    "\n",
    "![hierarchy](data/hierarchy_network.png)"
   ]
  },
  {
   "cell_type": "markdown",
   "metadata": {
    "slideshow": {
     "slide_type": "subslide"
    }
   },
   "source": [
    "A detail\n",
    "\n",
    "![networkdetail](data/hierarchy_network_detail.png)"
   ]
  },
  {
   "cell_type": "markdown",
   "metadata": {
    "slideshow": {
     "slide_type": "slide"
    }
   },
   "source": [
    "## PubMedPy\n",
    "Allows to easily and consistently retrieve information from arbitrarily structred XML articles."
   ]
  },
  {
   "cell_type": "markdown",
   "metadata": {
    "slideshow": {
     "slide_type": "subslide"
    }
   },
   "source": [
    "Retrieve an element regardless of its shape, orientation or position"
   ]
  },
  {
   "cell_type": "markdown",
   "metadata": {
    "slideshow": {
     "slide_type": "fragment"
    }
   },
   "source": [
    "![legoexamplehighlight](data/lego-examples_highlighted.png)"
   ]
  },
  {
   "cell_type": "markdown",
   "metadata": {
    "slideshow": {
     "slide_type": "slide"
    }
   },
   "source": [
    "## Download articles\n",
    "You can bulk download articles from script interface\n",
    "\n",
    "\n",
    "![bulkdownload](data/bulkdownload.gif)"
   ]
  },
  {
   "cell_type": "markdown",
   "metadata": {
    "slideshow": {
     "slide_type": "slide"
    }
   },
   "source": [
    "## Parse one XML article\n",
    "When an XML file contains a single XML article you can safely use `parse_article()`.\n",
    "\n",
    "This will transform the xml file in an `Article` object."
   ]
  },
  {
   "cell_type": "code",
   "execution_count": 4,
   "metadata": {},
   "outputs": [
    {
     "data": {
      "text/plain": [
       "Article(journal=Intrapulmonary autologous transplant of bone marrow-derived mesenchymal stromal cells improves lipopolysaccharide-induced acute respiratory distress syndrome in rabbit, title=Journal(id='Crit Care', title='None'))"
      ]
     },
     "execution_count": 4,
     "metadata": {},
     "output_type": "execute_result"
    }
   ],
   "source": [
    "pm.parse_article(\"examples/example0.xml\")"
   ]
  },
  {
   "cell_type": "markdown",
   "metadata": {
    "slideshow": {
     "slide_type": "subslide"
    }
   },
   "source": [
    "## Parse multiple articles in the same XML\n",
    "Sometimes an XML file contains multiple `<article>` elements. Each corresponding to one manuscript. You can iteratively parse multiple articles residing in the same XML file using the `iter_articles()` function."
   ]
  },
  {
   "cell_type": "code",
   "execution_count": 5,
   "metadata": {},
   "outputs": [
    {
     "name": "stdout",
     "output_type": "stream",
     "text": [
      "Article(journal=Intrapulmonary autologous transplant of bone marrow-derived mesenchymal stromal cells improves lipopolysaccharide-induced acute respiratory distress syndrome in rabbit, title=Journal(id='Crit Care', title='None'))\n"
     ]
    }
   ],
   "source": [
    "for article in pm.iter_articles('examples/example0.xml'):\n",
    "    print(article)"
   ]
  },
  {
   "cell_type": "markdown",
   "metadata": {
    "slideshow": {
     "slide_type": "skip"
    }
   },
   "source": [
    "For XML files containing a single `<article>`, using `iter_articles` or `parse_article` is equivalent. However if `parse_article` is used on an XML file containing multiple `<article>` elements, it will always parse only the first."
   ]
  },
  {
   "cell_type": "markdown",
   "metadata": {
    "slideshow": {
     "slide_type": "slide"
    }
   },
   "source": [
    "## Article objects\n",
    "### Title\n",
    "`Article`s have many methods that can be used to retrieve information. For example you can request their title:"
   ]
  },
  {
   "cell_type": "code",
   "execution_count": 6,
   "metadata": {
    "slideshow": {
     "slide_type": "fragment"
    }
   },
   "outputs": [
    {
     "data": {
      "text/plain": [
       "'Intrapulmonary autologous transplant of bone marrow-derived mesenchymal stromal cells improves lipopolysaccharide-induced acute respiratory distress syndrome in rabbit'"
      ]
     },
     "execution_count": 6,
     "metadata": {},
     "output_type": "execute_result"
    }
   ],
   "source": [
    "article.get_title()"
   ]
  },
  {
   "cell_type": "markdown",
   "metadata": {
    "slideshow": {
     "slide_type": "subslide"
    }
   },
   "source": [
    "### Authors\n",
    "You could also request the list of authors:"
   ]
  },
  {
   "cell_type": "code",
   "execution_count": 7,
   "metadata": {
    "slideshow": {
     "slide_type": "fragment"
    }
   },
   "outputs": [
    {
     "data": {
      "text/plain": [
       "[Author(name=Name(pre='None' givenn='Mohammad Reza' surn='Mokhber Dezfouli' suf='None') email=mokhberd@ut.ac.ir affils=[Affiliation(id='Aff1' institution='Department of Internal Medicine, Faculty of Veterinary Medicine,  University of Tehran,  Tehran, Iran '), Affiliation(id='Aff3' institution='Institute of Biomedical Research,  University of Tehran,  Tehran, Iran ')]),\n",
       " Author(name=Name(pre='None' givenn='Massoumeh' surn='Jabbari Fakhr' suf='None') email=mjabbarifakhr@gmail.com affils=[Affiliation(id='Aff3' institution='Institute of Biomedical Research,  University of Tehran,  Tehran, Iran ')]),\n",
       " Author(name=Name(pre='None' givenn='Sirous' surn='Sadeghian Chaleshtori' suf='None') email=s.sadeghian@ut.ac.ir affils=[Affiliation(id='Aff1' institution='Department of Internal Medicine, Faculty of Veterinary Medicine,  University of Tehran,  Tehran, Iran '), Affiliation(id='Aff3' institution='Institute of Biomedical Research,  University of Tehran,  Tehran, Iran ')]),\n",
       " Author(name=Name(pre='None' givenn='Mohammad Mehdi' surn='Dehghan' suf='None') email=mdehghan@ut.ac.ir affils=[Affiliation(id='Aff2' institution='Department of Surgery and Radiology, Faculty of Veterinary Medicine,  University of Tehran,  Tehran, Iran '), Affiliation(id='Aff3' institution='Institute of Biomedical Research,  University of Tehran,  Tehran, Iran ')]),\n",
       " Author(name=Name(pre='None' givenn='Alireza' surn='Vajhi' suf='None') email=avajhi@ut.ac.ir affils=[Affiliation(id='Aff2' institution='Department of Surgery and Radiology, Faculty of Veterinary Medicine,  University of Tehran,  Tehran, Iran '), Affiliation(id='Aff3' institution='Institute of Biomedical Research,  University of Tehran,  Tehran, Iran ')]),\n",
       " Author(name=Name(pre='None' givenn='Roshanak' surn='Mokhtari' suf='None') email=roshanak.mokhtari@gmail.com affils=[Affiliation(id='Aff2' institution='Department of Surgery and Radiology, Faculty of Veterinary Medicine,  University of Tehran,  Tehran, Iran ')])]"
      ]
     },
     "execution_count": 7,
     "metadata": {},
     "output_type": "execute_result"
    }
   ],
   "source": [
    "authors = article.get_authors()\n",
    "authors"
   ]
  },
  {
   "cell_type": "markdown",
   "metadata": {
    "slideshow": {
     "slide_type": "subslide"
    }
   },
   "source": [
    "While `get_title` returns a string, `get_authors` as most methods returns Objects or list of Objects. This Objects will usually appear in the form:\n",
    "```\n",
    "ObjectName(someLabel=someInfo, ...)\n",
    "```\n",
    "However, these Objects will sometimes react differently when the `str()` function is called upon them or they may have attributes that can be directly accessed. For example the first element of `authors` is an `Author` object:"
   ]
  },
  {
   "cell_type": "code",
   "execution_count": 8,
   "metadata": {
    "slideshow": {
     "slide_type": "subslide"
    }
   },
   "outputs": [
    {
     "data": {
      "text/plain": [
       "Author(name=Name(pre='None' givenn='Mohammad Reza' surn='Mokhber Dezfouli' suf='None') email=mokhberd@ut.ac.ir affils=[Affiliation(id='Aff1' institution='Department of Internal Medicine, Faculty of Veterinary Medicine,  University of Tehran,  Tehran, Iran '), Affiliation(id='Aff3' institution='Institute of Biomedical Research,  University of Tehran,  Tehran, Iran ')])"
      ]
     },
     "execution_count": 8,
     "metadata": {},
     "output_type": "execute_result"
    }
   ],
   "source": [
    "authors[0]"
   ]
  },
  {
   "cell_type": "markdown",
   "metadata": {},
   "source": [
    "which have a public `name` attribute, which is, in turn, a `Name` object. Its `repr` looks like this:"
   ]
  },
  {
   "cell_type": "code",
   "execution_count": 9,
   "metadata": {
    "slideshow": {
     "slide_type": "fragment"
    }
   },
   "outputs": [
    {
     "data": {
      "text/plain": [
       "Name(pre='None' givenn='Mohammad Reza' surn='Mokhber Dezfouli' suf='None')"
      ]
     },
     "execution_count": 9,
     "metadata": {},
     "output_type": "execute_result"
    }
   ],
   "source": [
    "authors[0].name"
   ]
  },
  {
   "cell_type": "markdown",
   "metadata": {
    "slideshow": {
     "slide_type": "fragment"
    }
   },
   "source": [
    "However, when printed it will look like this:"
   ]
  },
  {
   "cell_type": "code",
   "execution_count": 10,
   "metadata": {},
   "outputs": [
    {
     "name": "stdout",
     "output_type": "stream",
     "text": [
      "Mohammad Reza Mokhber Dezfouli\n"
     ]
    }
   ],
   "source": [
    "print(authors[0].name)"
   ]
  },
  {
   "cell_type": "markdown",
   "metadata": {
    "slideshow": {
     "slide_type": "slide"
    }
   },
   "source": [
    "### Affiliations\n",
    "`Article`s offer an endpoint to retrieve all affiliations of their authors"
   ]
  },
  {
   "cell_type": "code",
   "execution_count": 11,
   "metadata": {
    "slideshow": {
     "slide_type": "fragment"
    }
   },
   "outputs": [
    {
     "data": {
      "text/plain": [
       "[Affiliation(id='Aff1' institution='Department of Internal Medicine, Faculty of Veterinary Medicine,  University of Tehran,  Tehran, Iran '),\n",
       " Affiliation(id='Aff3' institution='Institute of Biomedical Research,  University of Tehran,  Tehran, Iran '),\n",
       " Affiliation(id='Aff3' institution='Institute of Biomedical Research,  University of Tehran,  Tehran, Iran '),\n",
       " Affiliation(id='Aff1' institution='Department of Internal Medicine, Faculty of Veterinary Medicine,  University of Tehran,  Tehran, Iran '),\n",
       " Affiliation(id='Aff3' institution='Institute of Biomedical Research,  University of Tehran,  Tehran, Iran '),\n",
       " Affiliation(id='Aff2' institution='Department of Surgery and Radiology, Faculty of Veterinary Medicine,  University of Tehran,  Tehran, Iran '),\n",
       " Affiliation(id='Aff3' institution='Institute of Biomedical Research,  University of Tehran,  Tehran, Iran '),\n",
       " Affiliation(id='Aff2' institution='Department of Surgery and Radiology, Faculty of Veterinary Medicine,  University of Tehran,  Tehran, Iran '),\n",
       " Affiliation(id='Aff3' institution='Institute of Biomedical Research,  University of Tehran,  Tehran, Iran '),\n",
       " Affiliation(id='Aff2' institution='Department of Surgery and Radiology, Faculty of Veterinary Medicine,  University of Tehran,  Tehran, Iran ')]"
      ]
     },
     "execution_count": 11,
     "metadata": {},
     "output_type": "execute_result"
    }
   ],
   "source": [
    "article.get_affiliations()"
   ]
  },
  {
   "cell_type": "markdown",
   "metadata": {
    "slideshow": {
     "slide_type": "subslide"
    }
   },
   "source": [
    "Sometimes `Affiliations`s are rather messy, so `Articles` offer a way to extract countries from their `institution` attribute. "
   ]
  },
  {
   "cell_type": "code",
   "execution_count": 12,
   "metadata": {},
   "outputs": [
    {
     "name": "stdout",
     "output_type": "stream",
     "text": [
      "['Iran', 'Iran', 'Iran', 'Iran', 'Iran', 'Iran', 'Iran', 'Iran', 'Iran', 'Iran']\n"
     ]
    }
   ],
   "source": [
    "print(article.get_countries())"
   ]
  },
  {
   "cell_type": "markdown",
   "metadata": {
    "slideshow": {
     "slide_type": "fragment"
    }
   },
   "source": [
    "the `Article.get_countries()` method returns a flat list of countries, which can be used to produce plots like the one below (made in GSheet)"
   ]
  },
  {
   "cell_type": "markdown",
   "metadata": {},
   "source": [
    "![countries](data/countries.png)"
   ]
  },
  {
   "cell_type": "markdown",
   "metadata": {
    "slideshow": {
     "slide_type": "slide"
    }
   },
   "source": [
    "### Tables\n",
    "`Article` objects provide a method to retrieve all tables in the body of the manuscript, which returns a list of `table` objects "
   ]
  },
  {
   "cell_type": "code",
   "execution_count": 13,
   "metadata": {},
   "outputs": [
    {
     "data": {
      "text/plain": [
       "[Table(shape=(19, 11)), Table(shape=(34, 9))]"
      ]
     },
     "execution_count": 13,
     "metadata": {},
     "output_type": "execute_result"
    }
   ],
   "source": [
    "tables = article.get_tables()\n",
    "tables"
   ]
  },
  {
   "cell_type": "markdown",
   "metadata": {
    "slideshow": {
     "slide_type": "subslide"
    }
   },
   "source": [
    "their default representation shows their dimension in (rows, cols) format."
   ]
  },
  {
   "cell_type": "code",
   "execution_count": 14,
   "metadata": {},
   "outputs": [
    {
     "data": {
      "text/plain": [
       "Table(shape=(19, 11))"
      ]
     },
     "execution_count": 14,
     "metadata": {},
     "output_type": "execute_result"
    }
   ],
   "source": [
    "table = tables[0]\n",
    "table"
   ]
  },
  {
   "cell_type": "markdown",
   "metadata": {
    "slideshow": {
     "slide_type": "subslide"
    }
   },
   "source": [
    "A `Table` object can be shown has a justified string with the `tabulate` method"
   ]
  },
  {
   "cell_type": "code",
   "execution_count": 15,
   "metadata": {},
   "outputs": [
    {
     "name": "stdout",
     "output_type": "stream",
     "text": [
      "Hematological parameters  Group      − 24 (h)           0 h               3 h                  6 h                 12 h                24 h                48 h                72 h               168 h            \n",
      "WBC (/μl)                 Treatment  *8240 ± 1469.01    13,760 ± 890.50   *13,040 ± 1228.00    #*12,340 ± 1377.67  #10,740 ± 89.44     #9940 ± 54.77       9580 ± 396.23       9240 ± 1163.18     8700 ± 1437.01   \n",
      "WBC (/μl)                 Control    *7720 ± 810.55     13,160 ± 522.49   *13,020 ± 756.30     *12,520 ± 589.06    *12,720 ± 1151.95   *12,620 ± 630.07    *12,640 ± 702.13    *12,380 ± 690.65   *11,740 ± 1040.67\n",
      "SEG (/μl)                 Treatment  *2582 ± 937.64     8355.20 ± 885.64  #*7468.80 ± 1351.25  #*6441.60 ± 279.25  #5814 ± 541         #5098 ± 84.81       #3828.20 ± 246.90   3653.80 ± 205.11   3156.40 ± 1657.72\n",
      "SEG (/μl)                 Control    *2550.20 ± 843.41  8467.60 ± 992.59  *8512.20 ± 599.36    *8101.20 ± 954.74   *7826.60 ± 1288.89  *7739.80 ± 1000.22  *7654.20 ± 1395.41  *7299.40 ± 533.47  *6676.20 ± 450.88\n",
      "BAND (/μl)                Treatment  27.4 ± 26.43       73 ± 56.74        71.6 ± 66.72         64 ± 58.99          60 ± 56.56          58.8 ± 38           #55.2 ± 40          #44 ± 36.29        #35 ± 22.91      \n",
      "BAND (/μl)                Control    34.8 ± 32.42       73.2 ± 57.99      77.6 ± 49.88         86.2 ± 52.50        89.2 ± 57.47        102 ± 63.80         112.8 ± 81.68       131.2 ± 104.88     *174.8 ± 51.89   \n",
      "LYM (/μl)                 Treatment  5173.4 ± 577.66    3363.4 ± 900.92   3480.4 ± 1197.64     3758 ± 664.16       3885.8 ± 606.60     4120.6 ± 743.79     4255.2 ± 891.68     4509 ± 994.02      4906.8 ± 1015.92 \n",
      "LYM (/μl)                 Control    4852.4 ± 1214.24   3175.6 ± 882.11   3268 ± 1603.72       3376 ± 813.13       3393.6 ± 1145.60    3471.8 ± 1196.61    3596.2 ± 1301.70    3678.4 ± 1338.22   3795.8 ± 815.30  \n",
      "MON (/μl)                 Treatment  86 ± 5.47          76 ± 60.76        80 ± 109.54          78 ± 174.41         76 ± 66.55          80 ± 123.28         78 ± 126.17         78 ± 62.60         #80 ± 77.78      \n",
      "MON (/μl)                 Control    76 ± 4.18          68 ± 8.36         72 ± 97.31           78 ± 83.18          84 ± 85.02          90 ± 108.39         96 ± 108.30         100 ± 70.71        *130 ± 12.24     \n",
      "RBC (×106/μl)             Treatment  6.11 ± 0.21        6.23 ± 0.90       6.28 ± 0.78          6.28 ± 0.67         6.24 ± 1            6.2 ± 0.92          #6.18 ± 0.96        6.13 ± 0.98        6.08 ± 0.99      \n",
      "RBC (×106/μl)             Control    6.07 ± 0.09        6.21 ± 1.11       6.27 ± 0.91          6.29 ± 1.09         6.32 ± 0.88         6.32 ± 0.86         *6.35 ± 0.09        6.31 ± 1.20        6.24 ± 1.04      \n",
      "Hgb (g/dl)                Treatment  12.12 ± 0.44       12.44 ± 0.56      12.56 ± 1.56         12.48 ± 1.16        12.36 ± 0.51        12.34 ± 1.32        #12.26 ± 0.94       12.2 ± 1.01        12 ± 0.57        \n",
      "Hgb (g/dl)                Control    12 ± 0.18          12.22 ± 1.46      12.52 ± 1.86         12.72 ± 1.97        12.88 ± 1.6         12.9 ± 1.50         *13.04 ± 0.11       12.86 ± 1.10       12.62 ± 0.52     \n",
      "Hct (%)                   Treatment  39.16 ± 2.24       40.66 ± 2.66      40.58 ± 3.20         40.46 ± 2.36        40.18 ± 2.43        40.1 ± 2.87         39.54 ± 2.27        39.3 ± 2.74        39.46 ± 2.08     \n",
      "Hct (%)                   Control    38.9 ± 2.54        40.4 ± 2.67       40.68 ± 3.29         40.9 ± 4.04         40.94 ± 4.18        41.02 ± 3.54        40.7 ± 3.45         40.52 ± 3.07       40.2 ± 3.29      \n",
      "Plt (×103/μl)             Treatment  371.2 ± 87.08      353 ± 74.24       339 ± 80.56          347.6 ± 64.43       345.6 ± 58.65       361.8 ± 74.88       380.4 ± 75.92       374 ± 66.60        368.4 ± 61.05    \n",
      "Plt (×103/μl)             Control    339 ± 103.84       330.2 ± 111.21    322.4 ± 78.15        322 ± 104.41        324 ± 42.95         316.8 ± 70.25       337.2 ± 64.13       322.8 ± 74.38      332.4 ± 82.26    \n"
     ]
    }
   ],
   "source": [
    "print(table.tabulate())"
   ]
  },
  {
   "cell_type": "markdown",
   "metadata": {
    "slideshow": {
     "slide_type": "slide"
    }
   },
   "source": [
    "but it also contains raw data in its `rows` attribute, which stores a `table` as a 2d listimport warnings\n",
    "warnings.filterwarnings(\"ignore\") in which the first dimension contains the rows and the second dimension contains the columns."
   ]
  },
  {
   "cell_type": "code",
   "execution_count": 16,
   "metadata": {},
   "outputs": [
    {
     "data": {
      "text/plain": [
       "[['Hematological parameters',\n",
       "  'Group',\n",
       "  '−\\u200924 (h)',\n",
       "  '0\\u2009h',\n",
       "  '3 h',\n",
       "  '6 h',\n",
       "  '12 h',\n",
       "  '24 h',\n",
       "  '48 h',\n",
       "  '72 h',\n",
       "  '168\\u2009h'],\n",
       " ['WBC (/μl)',\n",
       "  'Treatment',\n",
       "  '*8240\\u2009±\\u20091469.01',\n",
       "  '13,760\\xa0±\\xa0890.50',\n",
       "  '*13,040\\u2009±\\u20091228.00',\n",
       "  '#*12,340\\u2009±\\u20091377.67',\n",
       "  '#10,740\\u2009±\\u200989.44',\n",
       "  '#9940\\u2009±\\u200954.77',\n",
       "  '9580\\u2009±\\u2009396.23',\n",
       "  '9240\\u2009±\\u20091163.18',\n",
       "  '8700\\u2009±\\u20091437.01'],\n",
       " ['WBC (/μl)',\n",
       "  'Control',\n",
       "  '*7720\\u2009±\\u2009810.55',\n",
       "  '13,160\\xa0±\\xa0522.49',\n",
       "  '*13,020\\u2009±\\u2009756.30',\n",
       "  '*12,520\\u2009±\\u2009589.06',\n",
       "  '*12,720\\u2009±\\u20091151.95',\n",
       "  '*12,620\\u2009±\\u2009630.07',\n",
       "  '*12,640\\u2009±\\u2009702.13',\n",
       "  '*12,380\\u2009±\\u2009690.65',\n",
       "  '*11,740\\u2009±\\u20091040.67'],\n",
       " ['SEG (/μl)',\n",
       "  'Treatment',\n",
       "  '*2582\\u2009±\\u2009937.64',\n",
       "  '8355.20\\xa0±\\xa0885.64',\n",
       "  '#*7468.80\\u2009±\\u20091351.25',\n",
       "  '#*6441.60\\u2009±\\u2009279.25',\n",
       "  '#5814\\u2009±\\u2009541',\n",
       "  '#5098\\u2009±\\u200984.81',\n",
       "  '#3828.20\\u2009±\\u2009246.90',\n",
       "  '3653.80\\u2009±\\u2009205.11',\n",
       "  '3156.40\\u2009±\\u20091657.72'],\n",
       " ['SEG (/μl)',\n",
       "  'Control',\n",
       "  '*2550.20\\u2009±\\u2009843.41',\n",
       "  '8467.60\\xa0±\\xa0992.59',\n",
       "  '*8512.20\\u2009±\\u2009599.36',\n",
       "  '*8101.20\\u2009±\\u2009954.74',\n",
       "  '*7826.60\\u2009±\\u20091288.89',\n",
       "  '*7739.80\\u2009±\\u20091000.22',\n",
       "  '*7654.20\\u2009±\\u20091395.41',\n",
       "  '*7299.40\\u2009±\\u2009533.47',\n",
       "  '*6676.20\\u2009±\\u2009450.88'],\n",
       " ['BAND (/μl)',\n",
       "  'Treatment',\n",
       "  '27.4\\u2009±\\u200926.43',\n",
       "  '73\\xa0±\\xa056.74',\n",
       "  '71.6\\u2009±\\u200966.72',\n",
       "  '64\\u2009±\\u200958.99',\n",
       "  '60\\u2009±\\u200956.56',\n",
       "  '58.8\\u2009±\\u200938',\n",
       "  '#55.2\\u2009±\\u200940',\n",
       "  '#44\\u2009±\\u200936.29',\n",
       "  '#35\\u2009±\\u200922.91'],\n",
       " ['BAND (/μl)',\n",
       "  'Control',\n",
       "  '34.8\\u2009±\\u200932.42',\n",
       "  '73.2\\xa0±\\xa057.99',\n",
       "  '77.6\\u2009±\\u200949.88',\n",
       "  '86.2\\u2009±\\u200952.50',\n",
       "  '89.2\\u2009±\\u200957.47',\n",
       "  '102\\u2009±\\u200963.80',\n",
       "  '112.8\\u2009±\\u200981.68',\n",
       "  '131.2\\u2009±\\u2009104.88',\n",
       "  '*174.8\\u2009±\\u200951.89'],\n",
       " ['LYM (/μl)',\n",
       "  'Treatment',\n",
       "  '5173.4\\u2009±\\u2009577.66',\n",
       "  '3363.4\\xa0±\\xa0900.92',\n",
       "  '3480.4\\u2009±\\u20091197.64',\n",
       "  '3758\\u2009±\\u2009664.16',\n",
       "  '3885.8\\u2009±\\u2009606.60',\n",
       "  '4120.6\\u2009±\\u2009743.79',\n",
       "  '4255.2\\u2009±\\u2009891.68',\n",
       "  '4509\\u2009±\\u2009994.02',\n",
       "  '4906.8\\u2009±\\u20091015.92'],\n",
       " ['LYM (/μl)',\n",
       "  'Control',\n",
       "  '4852.4\\u2009±\\u20091214.24',\n",
       "  '3175.6\\xa0±\\xa0882.11',\n",
       "  '3268\\u2009±\\u20091603.72',\n",
       "  '3376\\u2009±\\u2009813.13',\n",
       "  '3393.6\\u2009±\\u20091145.60',\n",
       "  '3471.8\\u2009±\\u20091196.61',\n",
       "  '3596.2\\u2009±\\u20091301.70',\n",
       "  '3678.4\\u2009±\\u20091338.22',\n",
       "  '3795.8\\u2009±\\u2009815.30'],\n",
       " ['MON (/μl)',\n",
       "  'Treatment',\n",
       "  '86\\u2009±\\u20095.47',\n",
       "  '76\\xa0±\\xa060.76',\n",
       "  '80\\u2009±\\u2009109.54',\n",
       "  '78\\u2009±\\u2009174.41',\n",
       "  '76\\u2009±\\u200966.55',\n",
       "  '80\\u2009±\\u2009123.28',\n",
       "  '78\\u2009±\\u2009126.17',\n",
       "  '78\\u2009±\\u200962.60',\n",
       "  '#80\\u2009±\\u200977.78'],\n",
       " ['MON (/μl)',\n",
       "  'Control',\n",
       "  '76\\u2009±\\u20094.18',\n",
       "  '68\\xa0±\\xa08.36',\n",
       "  '72\\u2009±\\u200997.31',\n",
       "  '78\\u2009±\\u200983.18',\n",
       "  '84\\u2009±\\u200985.02',\n",
       "  '90\\u2009±\\u2009108.39',\n",
       "  '96\\u2009±\\u2009108.30',\n",
       "  '100\\u2009±\\u200970.71',\n",
       "  '*130\\u2009±\\u200912.24'],\n",
       " ['RBC (×106/μl)',\n",
       "  'Treatment',\n",
       "  '6.11\\u2009±\\u20090.21',\n",
       "  '6.23\\xa0±\\xa00.90',\n",
       "  '6.28\\u2009±\\u20090.78',\n",
       "  '6.28\\u2009±\\u20090.67',\n",
       "  '6.24\\u2009±\\u20091',\n",
       "  '6.2\\u2009±\\u20090.92',\n",
       "  '#6.18\\u2009±\\u20090.96',\n",
       "  '6.13\\u2009±\\u20090.98',\n",
       "  '6.08\\u2009±\\u20090.99'],\n",
       " ['RBC (×106/μl)',\n",
       "  'Control',\n",
       "  '6.07\\u2009±\\u20090.09',\n",
       "  '6.21\\xa0±\\xa01.11',\n",
       "  '6.27\\u2009±\\u20090.91',\n",
       "  '6.29\\u2009±\\u20091.09',\n",
       "  '6.32\\u2009±\\u20090.88',\n",
       "  '6.32\\u2009±\\u20090.86',\n",
       "  '*6.35\\u2009±\\u20090.09',\n",
       "  '6.31\\u2009±\\u20091.20',\n",
       "  '6.24\\u2009±\\u20091.04'],\n",
       " ['Hgb (g/dl)',\n",
       "  'Treatment',\n",
       "  '12.12\\u2009±\\u20090.44',\n",
       "  '12.44\\xa0±\\xa00.56',\n",
       "  '12.56\\u2009±\\u20091.56',\n",
       "  '12.48\\u2009±\\u20091.16',\n",
       "  '12.36\\u2009±\\u20090.51',\n",
       "  '12.34\\u2009±\\u20091.32',\n",
       "  '#12.26\\u2009±\\u20090.94',\n",
       "  '12.2\\u2009±\\u20091.01',\n",
       "  '12\\u2009±\\u20090.57'],\n",
       " ['Hgb (g/dl)',\n",
       "  'Control',\n",
       "  '12\\u2009±\\u20090.18',\n",
       "  '12.22\\xa0±\\xa01.46',\n",
       "  '12.52\\u2009±\\u20091.86',\n",
       "  '12.72\\u2009±\\u20091.97',\n",
       "  '12.88\\u2009±\\u20091.6',\n",
       "  '12.9\\u2009±\\u20091.50',\n",
       "  '*13.04\\u2009±\\u20090.11',\n",
       "  '12.86\\u2009±\\u20091.10',\n",
       "  '12.62\\u2009±\\u20090.52'],\n",
       " ['Hct (%)',\n",
       "  'Treatment',\n",
       "  '39.16\\u2009±\\u20092.24',\n",
       "  '40.66\\xa0±\\xa02.66',\n",
       "  '40.58\\u2009±\\u20093.20',\n",
       "  '40.46\\u2009±\\u20092.36',\n",
       "  '40.18\\u2009±\\u20092.43',\n",
       "  '40.1\\u2009±\\u20092.87',\n",
       "  '39.54\\u2009±\\u20092.27',\n",
       "  '39.3\\u2009±\\u20092.74',\n",
       "  '39.46\\u2009±\\u20092.08'],\n",
       " ['Hct (%)',\n",
       "  'Control',\n",
       "  '38.9\\u2009±\\u20092.54',\n",
       "  '40.4\\xa0±\\xa02.67',\n",
       "  '40.68\\u2009±\\u20093.29',\n",
       "  '40.9\\u2009±\\u20094.04',\n",
       "  '40.94\\u2009±\\u20094.18',\n",
       "  '41.02\\u2009±\\u20093.54',\n",
       "  '40.7\\u2009±\\u20093.45',\n",
       "  '40.52\\u2009±\\u20093.07',\n",
       "  '40.2\\u2009±\\u20093.29'],\n",
       " ['Plt (×103/μl)',\n",
       "  'Treatment',\n",
       "  '371.2\\u2009±\\u200987.08',\n",
       "  '353\\xa0±\\xa074.24',\n",
       "  '339\\u2009±\\u200980.56',\n",
       "  '347.6\\u2009±\\u200964.43',\n",
       "  '345.6\\u2009±\\u200958.65',\n",
       "  '361.8\\u2009±\\u200974.88',\n",
       "  '380.4\\u2009±\\u200975.92',\n",
       "  '374\\u2009±\\u200966.60',\n",
       "  '368.4\\u2009±\\u200961.05'],\n",
       " ['Plt (×103/μl)',\n",
       "  'Control',\n",
       "  '339\\u2009±\\u2009103.84',\n",
       "  '330.2\\xa0±\\xa0111.21',\n",
       "  '322.4\\u2009±\\u200978.15',\n",
       "  '322\\u2009±\\u2009104.41',\n",
       "  '324\\u2009±\\u200942.95',\n",
       "  '316.8\\u2009±\\u200970.25',\n",
       "  '337.2\\u2009±\\u200964.13',\n",
       "  '322.8\\u2009±\\u200974.38',\n",
       "  '332.4\\u2009±\\u200982.26']]"
      ]
     },
     "execution_count": 16,
     "metadata": {},
     "output_type": "execute_result"
    }
   ],
   "source": [
    "table.rows"
   ]
  },
  {
   "cell_type": "markdown",
   "metadata": {
    "slideshow": {
     "slide_type": "subslide"
    }
   },
   "source": [
    "This means that the `rows` attribute can be directly read into a `pandas.DataFrame`"
   ]
  },
  {
   "cell_type": "code",
   "execution_count": 21,
   "metadata": {},
   "outputs": [
    {
     "data": {
      "text/html": [
       "<div>\n",
       "<style scoped>\n",
       "    .dataframe tbody tr th:only-of-type {\n",
       "        vertical-align: middle;\n",
       "    }\n",
       "\n",
       "    .dataframe tbody tr th {\n",
       "        vertical-align: top;\n",
       "    }\n",
       "\n",
       "    .dataframe thead th {\n",
       "        text-align: right;\n",
       "    }\n",
       "</style>\n",
       "<table border=\"1\" class=\"dataframe\">\n",
       "  <thead>\n",
       "    <tr style=\"text-align: right;\">\n",
       "      <th></th>\n",
       "      <th></th>\n",
       "      <th>− 24 (h)</th>\n",
       "      <th>0 h</th>\n",
       "      <th>3 h</th>\n",
       "      <th>6 h</th>\n",
       "      <th>12 h</th>\n",
       "      <th>24 h</th>\n",
       "      <th>48 h</th>\n",
       "      <th>72 h</th>\n",
       "      <th>168 h</th>\n",
       "    </tr>\n",
       "    <tr>\n",
       "      <th>Hematological parameters</th>\n",
       "      <th>Group</th>\n",
       "      <th></th>\n",
       "      <th></th>\n",
       "      <th></th>\n",
       "      <th></th>\n",
       "      <th></th>\n",
       "      <th></th>\n",
       "      <th></th>\n",
       "      <th></th>\n",
       "      <th></th>\n",
       "    </tr>\n",
       "  </thead>\n",
       "  <tbody>\n",
       "    <tr>\n",
       "      <th rowspan=\"2\" valign=\"top\">WBC (/μl)</th>\n",
       "      <th>Treatment</th>\n",
       "      <td>*8240 ± 1469.01</td>\n",
       "      <td>13,760 ± 890.50</td>\n",
       "      <td>*13,040 ± 1228.00</td>\n",
       "      <td>#*12,340 ± 1377.67</td>\n",
       "      <td>#10,740 ± 89.44</td>\n",
       "      <td>#9940 ± 54.77</td>\n",
       "      <td>9580 ± 396.23</td>\n",
       "      <td>9240 ± 1163.18</td>\n",
       "      <td>8700 ± 1437.01</td>\n",
       "    </tr>\n",
       "    <tr>\n",
       "      <th>Control</th>\n",
       "      <td>*7720 ± 810.55</td>\n",
       "      <td>13,160 ± 522.49</td>\n",
       "      <td>*13,020 ± 756.30</td>\n",
       "      <td>*12,520 ± 589.06</td>\n",
       "      <td>*12,720 ± 1151.95</td>\n",
       "      <td>*12,620 ± 630.07</td>\n",
       "      <td>*12,640 ± 702.13</td>\n",
       "      <td>*12,380 ± 690.65</td>\n",
       "      <td>*11,740 ± 1040.67</td>\n",
       "    </tr>\n",
       "    <tr>\n",
       "      <th rowspan=\"2\" valign=\"top\">SEG (/μl)</th>\n",
       "      <th>Treatment</th>\n",
       "      <td>*2582 ± 937.64</td>\n",
       "      <td>8355.20 ± 885.64</td>\n",
       "      <td>#*7468.80 ± 1351.25</td>\n",
       "      <td>#*6441.60 ± 279.25</td>\n",
       "      <td>#5814 ± 541</td>\n",
       "      <td>#5098 ± 84.81</td>\n",
       "      <td>#3828.20 ± 246.90</td>\n",
       "      <td>3653.80 ± 205.11</td>\n",
       "      <td>3156.40 ± 1657.72</td>\n",
       "    </tr>\n",
       "    <tr>\n",
       "      <th>Control</th>\n",
       "      <td>*2550.20 ± 843.41</td>\n",
       "      <td>8467.60 ± 992.59</td>\n",
       "      <td>*8512.20 ± 599.36</td>\n",
       "      <td>*8101.20 ± 954.74</td>\n",
       "      <td>*7826.60 ± 1288.89</td>\n",
       "      <td>*7739.80 ± 1000.22</td>\n",
       "      <td>*7654.20 ± 1395.41</td>\n",
       "      <td>*7299.40 ± 533.47</td>\n",
       "      <td>*6676.20 ± 450.88</td>\n",
       "    </tr>\n",
       "    <tr>\n",
       "      <th rowspan=\"2\" valign=\"top\">BAND (/μl)</th>\n",
       "      <th>Treatment</th>\n",
       "      <td>27.4 ± 26.43</td>\n",
       "      <td>73 ± 56.74</td>\n",
       "      <td>71.6 ± 66.72</td>\n",
       "      <td>64 ± 58.99</td>\n",
       "      <td>60 ± 56.56</td>\n",
       "      <td>58.8 ± 38</td>\n",
       "      <td>#55.2 ± 40</td>\n",
       "      <td>#44 ± 36.29</td>\n",
       "      <td>#35 ± 22.91</td>\n",
       "    </tr>\n",
       "    <tr>\n",
       "      <th>Control</th>\n",
       "      <td>34.8 ± 32.42</td>\n",
       "      <td>73.2 ± 57.99</td>\n",
       "      <td>77.6 ± 49.88</td>\n",
       "      <td>86.2 ± 52.50</td>\n",
       "      <td>89.2 ± 57.47</td>\n",
       "      <td>102 ± 63.80</td>\n",
       "      <td>112.8 ± 81.68</td>\n",
       "      <td>131.2 ± 104.88</td>\n",
       "      <td>*174.8 ± 51.89</td>\n",
       "    </tr>\n",
       "    <tr>\n",
       "      <th rowspan=\"2\" valign=\"top\">LYM (/μl)</th>\n",
       "      <th>Treatment</th>\n",
       "      <td>5173.4 ± 577.66</td>\n",
       "      <td>3363.4 ± 900.92</td>\n",
       "      <td>3480.4 ± 1197.64</td>\n",
       "      <td>3758 ± 664.16</td>\n",
       "      <td>3885.8 ± 606.60</td>\n",
       "      <td>4120.6 ± 743.79</td>\n",
       "      <td>4255.2 ± 891.68</td>\n",
       "      <td>4509 ± 994.02</td>\n",
       "      <td>4906.8 ± 1015.92</td>\n",
       "    </tr>\n",
       "    <tr>\n",
       "      <th>Control</th>\n",
       "      <td>4852.4 ± 1214.24</td>\n",
       "      <td>3175.6 ± 882.11</td>\n",
       "      <td>3268 ± 1603.72</td>\n",
       "      <td>3376 ± 813.13</td>\n",
       "      <td>3393.6 ± 1145.60</td>\n",
       "      <td>3471.8 ± 1196.61</td>\n",
       "      <td>3596.2 ± 1301.70</td>\n",
       "      <td>3678.4 ± 1338.22</td>\n",
       "      <td>3795.8 ± 815.30</td>\n",
       "    </tr>\n",
       "    <tr>\n",
       "      <th rowspan=\"2\" valign=\"top\">MON (/μl)</th>\n",
       "      <th>Treatment</th>\n",
       "      <td>86 ± 5.47</td>\n",
       "      <td>76 ± 60.76</td>\n",
       "      <td>80 ± 109.54</td>\n",
       "      <td>78 ± 174.41</td>\n",
       "      <td>76 ± 66.55</td>\n",
       "      <td>80 ± 123.28</td>\n",
       "      <td>78 ± 126.17</td>\n",
       "      <td>78 ± 62.60</td>\n",
       "      <td>#80 ± 77.78</td>\n",
       "    </tr>\n",
       "    <tr>\n",
       "      <th>Control</th>\n",
       "      <td>76 ± 4.18</td>\n",
       "      <td>68 ± 8.36</td>\n",
       "      <td>72 ± 97.31</td>\n",
       "      <td>78 ± 83.18</td>\n",
       "      <td>84 ± 85.02</td>\n",
       "      <td>90 ± 108.39</td>\n",
       "      <td>96 ± 108.30</td>\n",
       "      <td>100 ± 70.71</td>\n",
       "      <td>*130 ± 12.24</td>\n",
       "    </tr>\n",
       "    <tr>\n",
       "      <th rowspan=\"2\" valign=\"top\">RBC (×106/μl)</th>\n",
       "      <th>Treatment</th>\n",
       "      <td>6.11 ± 0.21</td>\n",
       "      <td>6.23 ± 0.90</td>\n",
       "      <td>6.28 ± 0.78</td>\n",
       "      <td>6.28 ± 0.67</td>\n",
       "      <td>6.24 ± 1</td>\n",
       "      <td>6.2 ± 0.92</td>\n",
       "      <td>#6.18 ± 0.96</td>\n",
       "      <td>6.13 ± 0.98</td>\n",
       "      <td>6.08 ± 0.99</td>\n",
       "    </tr>\n",
       "    <tr>\n",
       "      <th>Control</th>\n",
       "      <td>6.07 ± 0.09</td>\n",
       "      <td>6.21 ± 1.11</td>\n",
       "      <td>6.27 ± 0.91</td>\n",
       "      <td>6.29 ± 1.09</td>\n",
       "      <td>6.32 ± 0.88</td>\n",
       "      <td>6.32 ± 0.86</td>\n",
       "      <td>*6.35 ± 0.09</td>\n",
       "      <td>6.31 ± 1.20</td>\n",
       "      <td>6.24 ± 1.04</td>\n",
       "    </tr>\n",
       "    <tr>\n",
       "      <th rowspan=\"2\" valign=\"top\">Hgb (g/dl)</th>\n",
       "      <th>Treatment</th>\n",
       "      <td>12.12 ± 0.44</td>\n",
       "      <td>12.44 ± 0.56</td>\n",
       "      <td>12.56 ± 1.56</td>\n",
       "      <td>12.48 ± 1.16</td>\n",
       "      <td>12.36 ± 0.51</td>\n",
       "      <td>12.34 ± 1.32</td>\n",
       "      <td>#12.26 ± 0.94</td>\n",
       "      <td>12.2 ± 1.01</td>\n",
       "      <td>12 ± 0.57</td>\n",
       "    </tr>\n",
       "    <tr>\n",
       "      <th>Control</th>\n",
       "      <td>12 ± 0.18</td>\n",
       "      <td>12.22 ± 1.46</td>\n",
       "      <td>12.52 ± 1.86</td>\n",
       "      <td>12.72 ± 1.97</td>\n",
       "      <td>12.88 ± 1.6</td>\n",
       "      <td>12.9 ± 1.50</td>\n",
       "      <td>*13.04 ± 0.11</td>\n",
       "      <td>12.86 ± 1.10</td>\n",
       "      <td>12.62 ± 0.52</td>\n",
       "    </tr>\n",
       "    <tr>\n",
       "      <th rowspan=\"2\" valign=\"top\">Hct (%)</th>\n",
       "      <th>Treatment</th>\n",
       "      <td>39.16 ± 2.24</td>\n",
       "      <td>40.66 ± 2.66</td>\n",
       "      <td>40.58 ± 3.20</td>\n",
       "      <td>40.46 ± 2.36</td>\n",
       "      <td>40.18 ± 2.43</td>\n",
       "      <td>40.1 ± 2.87</td>\n",
       "      <td>39.54 ± 2.27</td>\n",
       "      <td>39.3 ± 2.74</td>\n",
       "      <td>39.46 ± 2.08</td>\n",
       "    </tr>\n",
       "    <tr>\n",
       "      <th>Control</th>\n",
       "      <td>38.9 ± 2.54</td>\n",
       "      <td>40.4 ± 2.67</td>\n",
       "      <td>40.68 ± 3.29</td>\n",
       "      <td>40.9 ± 4.04</td>\n",
       "      <td>40.94 ± 4.18</td>\n",
       "      <td>41.02 ± 3.54</td>\n",
       "      <td>40.7 ± 3.45</td>\n",
       "      <td>40.52 ± 3.07</td>\n",
       "      <td>40.2 ± 3.29</td>\n",
       "    </tr>\n",
       "    <tr>\n",
       "      <th rowspan=\"2\" valign=\"top\">Plt (×103/μl)</th>\n",
       "      <th>Treatment</th>\n",
       "      <td>371.2 ± 87.08</td>\n",
       "      <td>353 ± 74.24</td>\n",
       "      <td>339 ± 80.56</td>\n",
       "      <td>347.6 ± 64.43</td>\n",
       "      <td>345.6 ± 58.65</td>\n",
       "      <td>361.8 ± 74.88</td>\n",
       "      <td>380.4 ± 75.92</td>\n",
       "      <td>374 ± 66.60</td>\n",
       "      <td>368.4 ± 61.05</td>\n",
       "    </tr>\n",
       "    <tr>\n",
       "      <th>Control</th>\n",
       "      <td>339 ± 103.84</td>\n",
       "      <td>330.2 ± 111.21</td>\n",
       "      <td>322.4 ± 78.15</td>\n",
       "      <td>322 ± 104.41</td>\n",
       "      <td>324 ± 42.95</td>\n",
       "      <td>316.8 ± 70.25</td>\n",
       "      <td>337.2 ± 64.13</td>\n",
       "      <td>322.8 ± 74.38</td>\n",
       "      <td>332.4 ± 82.26</td>\n",
       "    </tr>\n",
       "  </tbody>\n",
       "</table>\n",
       "</div>"
      ],
      "text/plain": [
       "                                             − 24 (h)               0 h  \\\n",
       "Hematological parameters Group                                            \n",
       "WBC (/μl)                Treatment    *8240 ± 1469.01   13,760 ± 890.50   \n",
       "                         Control       *7720 ± 810.55   13,160 ± 522.49   \n",
       "SEG (/μl)                Treatment     *2582 ± 937.64  8355.20 ± 885.64   \n",
       "                         Control    *2550.20 ± 843.41  8467.60 ± 992.59   \n",
       "BAND (/μl)               Treatment       27.4 ± 26.43        73 ± 56.74   \n",
       "                         Control         34.8 ± 32.42      73.2 ± 57.99   \n",
       "LYM (/μl)                Treatment    5173.4 ± 577.66   3363.4 ± 900.92   \n",
       "                         Control     4852.4 ± 1214.24   3175.6 ± 882.11   \n",
       "MON (/μl)                Treatment          86 ± 5.47        76 ± 60.76   \n",
       "                         Control            76 ± 4.18         68 ± 8.36   \n",
       "RBC (×106/μl)            Treatment        6.11 ± 0.21       6.23 ± 0.90   \n",
       "                         Control          6.07 ± 0.09       6.21 ± 1.11   \n",
       "Hgb (g/dl)               Treatment       12.12 ± 0.44      12.44 ± 0.56   \n",
       "                         Control            12 ± 0.18      12.22 ± 1.46   \n",
       "Hct (%)                  Treatment       39.16 ± 2.24      40.66 ± 2.66   \n",
       "                         Control          38.9 ± 2.54       40.4 ± 2.67   \n",
       "Plt (×103/μl)            Treatment      371.2 ± 87.08       353 ± 74.24   \n",
       "                         Control         339 ± 103.84    330.2 ± 111.21   \n",
       "\n",
       "                                                    3 h                 6 h  \\\n",
       "Hematological parameters Group                                                \n",
       "WBC (/μl)                Treatment    *13,040 ± 1228.00  #*12,340 ± 1377.67   \n",
       "                         Control       *13,020 ± 756.30    *12,520 ± 589.06   \n",
       "SEG (/μl)                Treatment  #*7468.80 ± 1351.25  #*6441.60 ± 279.25   \n",
       "                         Control      *8512.20 ± 599.36   *8101.20 ± 954.74   \n",
       "BAND (/μl)               Treatment         71.6 ± 66.72          64 ± 58.99   \n",
       "                         Control           77.6 ± 49.88        86.2 ± 52.50   \n",
       "LYM (/μl)                Treatment     3480.4 ± 1197.64       3758 ± 664.16   \n",
       "                         Control         3268 ± 1603.72       3376 ± 813.13   \n",
       "MON (/μl)                Treatment          80 ± 109.54         78 ± 174.41   \n",
       "                         Control             72 ± 97.31          78 ± 83.18   \n",
       "RBC (×106/μl)            Treatment          6.28 ± 0.78         6.28 ± 0.67   \n",
       "                         Control            6.27 ± 0.91         6.29 ± 1.09   \n",
       "Hgb (g/dl)               Treatment         12.56 ± 1.56        12.48 ± 1.16   \n",
       "                         Control           12.52 ± 1.86        12.72 ± 1.97   \n",
       "Hct (%)                  Treatment         40.58 ± 3.20        40.46 ± 2.36   \n",
       "                         Control           40.68 ± 3.29         40.9 ± 4.04   \n",
       "Plt (×103/μl)            Treatment          339 ± 80.56       347.6 ± 64.43   \n",
       "                         Control          322.4 ± 78.15        322 ± 104.41   \n",
       "\n",
       "                                                  12 h                24 h  \\\n",
       "Hematological parameters Group                                               \n",
       "WBC (/μl)                Treatment     #10,740 ± 89.44       #9940 ± 54.77   \n",
       "                         Control     *12,720 ± 1151.95    *12,620 ± 630.07   \n",
       "SEG (/μl)                Treatment         #5814 ± 541       #5098 ± 84.81   \n",
       "                         Control    *7826.60 ± 1288.89  *7739.80 ± 1000.22   \n",
       "BAND (/μl)               Treatment          60 ± 56.56           58.8 ± 38   \n",
       "                         Control          89.2 ± 57.47         102 ± 63.80   \n",
       "LYM (/μl)                Treatment     3885.8 ± 606.60     4120.6 ± 743.79   \n",
       "                         Control      3393.6 ± 1145.60    3471.8 ± 1196.61   \n",
       "MON (/μl)                Treatment          76 ± 66.55         80 ± 123.28   \n",
       "                         Control            84 ± 85.02         90 ± 108.39   \n",
       "RBC (×106/μl)            Treatment            6.24 ± 1          6.2 ± 0.92   \n",
       "                         Control           6.32 ± 0.88         6.32 ± 0.86   \n",
       "Hgb (g/dl)               Treatment        12.36 ± 0.51        12.34 ± 1.32   \n",
       "                         Control           12.88 ± 1.6         12.9 ± 1.50   \n",
       "Hct (%)                  Treatment        40.18 ± 2.43         40.1 ± 2.87   \n",
       "                         Control          40.94 ± 4.18        41.02 ± 3.54   \n",
       "Plt (×103/μl)            Treatment       345.6 ± 58.65       361.8 ± 74.88   \n",
       "                         Control           324 ± 42.95       316.8 ± 70.25   \n",
       "\n",
       "                                                  48 h               72 h  \\\n",
       "Hematological parameters Group                                              \n",
       "WBC (/μl)                Treatment       9580 ± 396.23     9240 ± 1163.18   \n",
       "                         Control      *12,640 ± 702.13   *12,380 ± 690.65   \n",
       "SEG (/μl)                Treatment   #3828.20 ± 246.90   3653.80 ± 205.11   \n",
       "                         Control    *7654.20 ± 1395.41  *7299.40 ± 533.47   \n",
       "BAND (/μl)               Treatment          #55.2 ± 40        #44 ± 36.29   \n",
       "                         Control         112.8 ± 81.68     131.2 ± 104.88   \n",
       "LYM (/μl)                Treatment     4255.2 ± 891.68      4509 ± 994.02   \n",
       "                         Control      3596.2 ± 1301.70   3678.4 ± 1338.22   \n",
       "MON (/μl)                Treatment         78 ± 126.17         78 ± 62.60   \n",
       "                         Control           96 ± 108.30        100 ± 70.71   \n",
       "RBC (×106/μl)            Treatment        #6.18 ± 0.96        6.13 ± 0.98   \n",
       "                         Control          *6.35 ± 0.09        6.31 ± 1.20   \n",
       "Hgb (g/dl)               Treatment       #12.26 ± 0.94        12.2 ± 1.01   \n",
       "                         Control         *13.04 ± 0.11       12.86 ± 1.10   \n",
       "Hct (%)                  Treatment        39.54 ± 2.27        39.3 ± 2.74   \n",
       "                         Control           40.7 ± 3.45       40.52 ± 3.07   \n",
       "Plt (×103/μl)            Treatment       380.4 ± 75.92        374 ± 66.60   \n",
       "                         Control         337.2 ± 64.13      322.8 ± 74.38   \n",
       "\n",
       "                                                168 h  \n",
       "Hematological parameters Group                         \n",
       "WBC (/μl)                Treatment     8700 ± 1437.01  \n",
       "                         Control    *11,740 ± 1040.67  \n",
       "SEG (/μl)                Treatment  3156.40 ± 1657.72  \n",
       "                         Control    *6676.20 ± 450.88  \n",
       "BAND (/μl)               Treatment        #35 ± 22.91  \n",
       "                         Control       *174.8 ± 51.89  \n",
       "LYM (/μl)                Treatment   4906.8 ± 1015.92  \n",
       "                         Control      3795.8 ± 815.30  \n",
       "MON (/μl)                Treatment        #80 ± 77.78  \n",
       "                         Control         *130 ± 12.24  \n",
       "RBC (×106/μl)            Treatment        6.08 ± 0.99  \n",
       "                         Control          6.24 ± 1.04  \n",
       "Hgb (g/dl)               Treatment          12 ± 0.57  \n",
       "                         Control         12.62 ± 0.52  \n",
       "Hct (%)                  Treatment       39.46 ± 2.08  \n",
       "                         Control          40.2 ± 3.29  \n",
       "Plt (×103/μl)            Treatment      368.4 ± 61.05  \n",
       "                         Control        332.4 ± 82.26  "
      ]
     },
     "execution_count": 21,
     "metadata": {},
     "output_type": "execute_result"
    }
   ],
   "source": [
    "df = pd.DataFrame(table.rows[1:])\n",
    "df.columns = table.rows[0]\n",
    "df = df.set_index(table.rows[0][:2])\n",
    "df"
   ]
  },
  {
   "cell_type": "markdown",
   "metadata": {
    "slideshow": {
     "slide_type": "subslide"
    }
   },
   "source": [
    "Once casted in a `DataFrame`, data manipulation becomes extremely easy."
   ]
  },
  {
   "cell_type": "code",
   "execution_count": 22,
   "metadata": {},
   "outputs": [
    {
     "data": {
      "image/png": "[encoded data removed]",
      "text/plain": [
       "<Figure size 720x504 with 9 Axes>"
      ]
     },
     "metadata": {
      "needs_background": "light"
     },
     "output_type": "display_data"
    }
   ],
   "source": [
    "df = df.stack().str.replace('[\\*#,]', '', regex=True).str.split('±', expand=True).unstack().astype(float)\n",
    "fig, axes = plt.subplots(3,3, figsize=(10, 7))\n",
    "for ax, lin, err in zip(axes.ravel(), df[0].T.groupby(level=0, axis=1), df[0].T.groupby(level=0, axis=1)):\n",
    "    lines = lin[1].plot(ax=ax, yerr=err[1]/2)\n",
    "    ax.legend(loc='upper center', bbox_to_anchor=(0.5, 1.6))\n",
    "fig.tight_layout()"
   ]
  },
  {
   "cell_type": "markdown",
   "metadata": {
    "slideshow": {
     "slide_type": "slide"
    }
   },
   "source": [
    "### Body Content\n",
    "An article body can come in all sort of shapes. To get a quick idea of the main sections of an `article` one can do:"
   ]
  },
  {
   "cell_type": "code",
   "execution_count": 19,
   "metadata": {},
   "outputs": [
    {
     "data": {
      "text/plain": [
       "['Background',\n",
       " 'Methods',\n",
       " 'Results',\n",
       " 'Discussion',\n",
       " 'Conclusions',\n",
       " 'Additional file']"
      ]
     },
     "execution_count": 19,
     "metadata": {},
     "output_type": "execute_result"
    }
   ],
   "source": [
    "article.get_body_structure(main_sections=True)"
   ]
  },
  {
   "cell_type": "markdown",
   "metadata": {
    "slideshow": {
     "slide_type": "subslide"
    }
   },
   "source": [
    "To get the full body structure just omit the `main_sections` parameter"
   ]
  },
  {
   "cell_type": "code",
   "execution_count": 20,
   "metadata": {},
   "outputs": [
    {
     "data": {
      "text/plain": [
       "[('Background', []),\n",
       " ('Methods',\n",
       "  ['Isolation, primary culture, and expansion of BM-MSCs',\n",
       "   'Experimental design',\n",
       "   'Analyses',\n",
       "   'Imaging',\n",
       "   'Sampling',\n",
       "   'Histopathology',\n",
       "   'Statistical analysis']),\n",
       " ('Results',\n",
       "  ['Characterization of BMSCs',\n",
       "   'Confirmation of ARDS experimental model',\n",
       "   'Clinical and paraclinical findings after transplant of BM-MSCs in an experimental model of ARDS',\n",
       "   'MSCs cause blood cells and BAL cells to balance',\n",
       "   'Regulation of arterial blood gases with MSCs',\n",
       "   'Effect of MSCs on arterial blood electrolytes',\n",
       "   'Reduced levels of proinflammatory cytokines and increase in anti-inflammatory cytokine by MSCs',\n",
       "   'Imaging findings',\n",
       "   'Echocardiography findings',\n",
       "   'Findings of gross pathology and histopathology']),\n",
       " ('Discussion', []),\n",
       " ('Conclusions', []),\n",
       " ('Additional file', ['Section'])]"
      ]
     },
     "execution_count": 20,
     "metadata": {},
     "output_type": "execute_result"
    }
   ],
   "source": [
    "article.get_body_structure()"
   ]
  },
  {
   "cell_type": "markdown",
   "metadata": {
    "slideshow": {
     "slide_type": "subslide"
    }
   },
   "source": [
    "Body elements can be arbitrarily nested. Some people might find useful to retrieve the content in its original nesting. This is possible through the `article.get_nested()` method."
   ]
  },
  {
   "cell_type": "code",
   "execution_count": 21,
   "metadata": {},
   "outputs": [
    {
     "data": {
      "text/plain": [
       "[('Background',\n",
       "  [('Paragraph1',\n",
       "    [Text(Lung disorders have significant morbidity and mortality rates worldwide, both in humans and in animals. Acute respiratory distress syndrome (ARDS) is one of the leading causes of respiratory failure around the world. Although early diagnosis, timely medical care, and treatment may lead to improvement of symptoms, the signs return after a period of time. Causes of ARDS are different. It can be caused by direct or indirect damage to the lung epithelium. ARDS is described by severe hypoxemia, decreased pulmonary compliance, diffuse alveolar damage, and bilateral pulmonary infiltrates after cardiac edema [),\n",
       "     ReferencedContent(href=None, text=1),\n",
       "     Text(, ),\n",
       "     ReferencedContent(href=None, text=2),\n",
       "     Text(] and confirmed by a combination of clinical, physiological, and chest imaging parameters. Pulmonary inflammation with disruption of the mechanism of the alveolar–capillary barrier is an important direct cause of ARDS [),\n",
       "     ReferencedContent(href=None, text=3),\n",
       "     Text(, ),\n",
       "     ReferencedContent(href=None, text=4),\n",
       "     Text(]. Therapeutic approaches include mechanical ventilation, neuromuscular blocking agents, fluid management, drug and antimicrobial therapy, and prone positioning [),\n",
       "     ReferencedContent(href=None, text=3),\n",
       "     Text(, ),\n",
       "     ReferencedContent(href=None, text=5),\n",
       "     Text(, ),\n",
       "     ReferencedContent(href=None, text=6),\n",
       "     Text(]. These therapeutic strategies have a supportive role and cannot prevent the progression of the disease [),\n",
       "     ReferencedContent(href=None, text=7),\n",
       "     Text(–),\n",
       "     ReferencedContent(href=None, text=10),\n",
       "     Text(]. The ultimate approach is lung transplant, but it has many problems for recipient patients such as lack of suitable donors and the use of immunosuppressive drugs over a lifetime to prevent rejection of the transplant [),\n",
       "     ReferencedContent(href=None, text=11),\n",
       "     Text(]. Therefore, the recognition of new therapeutic approaches such as stromal cell therapy is essential [),\n",
       "     ReferencedContent(href=None, text=12),\n",
       "     Text(]. MSCs confer immunomodulatory and anti-inflammatory effects, enhance bacterial clearance, reduce cell injury and death, and are angiogenic [),\n",
       "     ReferencedContent(href=None, text=5),\n",
       "     Text(, ),\n",
       "     ReferencedContent(href=None, text=13),\n",
       "     Text(]. The mechanism of the MSCs’ effects includes several pathways mediated through differentiation, proliferation, soluble intermediate release, extracellular vesicles, transfer of organelles, and direct cell-to-cell contact, which decrease activation of inflammatory cell secretion of paracrine mediators [),\n",
       "     ReferencedContent(href=None, text=14),\n",
       "     Text(, ),\n",
       "     ReferencedContent(href=None, text=15),\n",
       "     Text(]. Recent studies have shown positive effects of MSC-based therapy for ARDS. Induction of inflammation by the LPS of ),\n",
       "     Text(Escherichia coli),\n",
       "     Text( O55:B5 is one of the best and simplest methods for making an experimental model of ARDS. Although the ARDS animal models cannot reflect human ARDS accurately, the rabbit model is similar and hence suitable for translating the results from pilot to clinical conditions [),\n",
       "     ReferencedContent(href=None, text=16),\n",
       "     Text(]. Anatomical, physiological, genetic, and biochemical similarity to humans simulates human lung disease, and as the rabbit is easy to handle, it is considered as a suitable model for pulmonary research [),\n",
       "     ReferencedContent(href=None, text=17),\n",
       "     Text(, ),\n",
       "     ReferencedContent(href=None, text=18),\n",
       "     Text(]. Moreover, the rabbit serves as an excellent platform for treatment based on stromal cells [),\n",
       "     ReferencedContent(href=None, text=19),\n",
       "     Text(, ),\n",
       "     ReferencedContent(href=None, text=20),\n",
       "     Text(]. Thus, in this study, the rabbit was used as a model for causing ARDS, and then it was treated with stromal cells. The aim of this study was evaluation of therapeutic potential intrapulmonary administration of BM-MSCs in an experimental model of ),\n",
       "     Text(E. coli),\n",
       "     Text( LPS-induced ARDS in the rabbit.)])]),\n",
       " ('Methods',\n",
       "  [('Isolation, primary culture, and expansion of BM-MSCs',\n",
       "    [('Paragraph2',\n",
       "      [Text(Bone marrow (BM) samples were obtained from the humerus of rabbits in aseptic surgical conditions. After 30 min of centrifugation (400 relative centrifugal force), mononuclear cells were collected from the interphase, and eventually the cell pellets were seeded into 25-cm),\n",
       "       Text(2),\n",
       "       Text( flasks (SPL Life Sciences, Pocheon, South Korea) with DMEM-high glucose, 20% FBS (Life Technologies, Carlsbad, CA, USA), and 100 U/ml penicillin/streptomycin (Biowest, Nuaillé, France) and incubated at 37 °C in humid air with 5% CO),\n",
       "       Text(2),\n",
       "       Text( (Memmert, Eagle, WI, USA). When the adhesion of the cells was near confluence (more than 70%), the cells were trypsinized by trypsin-ethylenediaminetetraacetic acid of 0.25% (Life Technologies) and replated at dilutions of 1:2 under conditions of the same cultivation. The characteristics of the BM-MSCs were labeled with phycoerythrin-conjugated antibodies against CD45 (BioLegend, San Diego, CA, USA), CD90 (eBioscience, San Diego, CA, USA) and CD34 and CD29 (Abcam, Cambridge, UK), and the multilineage differentiation ability of BM-MSCs to engage in osteogenic and adipogenic differentiation was checked in vitro. This is described in more detail in the additional files.)])]),\n",
       "   ('Experimental design',\n",
       "    [('ARDS experimental model',\n",
       "      [('Paragraph3',\n",
       "        [Text(Ten healthy adult male New Zealand white rabbits were chosen, and an ARDS experimental model was induced with LPS from ),\n",
       "         Text(E. coli),\n",
       "         Text( O55:B5 [),\n",
       "         ReferencedContent(href=None, text=21),\n",
       "         Text(] (Sigma-Aldrich, St. Louis, MO, USA) at 400 μg/kg dissolved in 0.1 ml of PBS intrapulmonary the under bronchoscopic guidance. After the ARDS confirmation, rabbits were randomly distributed into two groups: (1) the control group (ARDS + PBS) and (2) the treatment group (ARDS + BM-MSC). Protocol details are available in the additional files.)])]),\n",
       "     ('BM-MSC autologous transplant',\n",
       "      [('Paragraph4',\n",
       "        [Text(A total of 10),\n",
       "         Text(10),\n",
       "         Text( BM-MSCs suspended in 0.1 ml of PBS [),\n",
       "         ReferencedContent(href=None, text=5),\n",
       "         Text(] were autologously transplanted intrapulmonary under bronchoscopic guidance 24 h after induction of ARDS. Details of the method are provided in the additional files.)])])]),\n",
       "   ('Analyses',\n",
       "    [('Clinical assessment',\n",
       "      [('Paragraph5',\n",
       "        [Text(During the study, the clinical signs of rabbits were calculated and recorded on the basis of clinical scores for each rabbit. Heart rate (HR), respiratory rate (RR), body temperature, twitch, abnormal breathing, nasal discharge, cough, appetite, and physical condition were measured using a clinical score. The scoring is based on clinically evaluated criteria that were individually defined and measured for each rabbit (Additional file ),\n",
       "         ReferencedContent(href=None, text=1),\n",
       "         Text(: Table S1).)])])]),\n",
       "   ('Imaging',\n",
       "    [('Computed tomography and echocardiography',\n",
       "      [('Paragraph6',\n",
       "        [Text(Computed tomographic (CT) scans of the lung of rabbits were taken with the SOMATOM Spirit Class II (Siemens, Erlangen, Germany), and echocardiographic examinations were performed using a Vivid 7 ultrasound system (GE Healthcare, Milwaukee, WI, USA) with a 4.4–10.0-MHz phased-array transducer (10S) during experimental modeling of ARDS before and 12, 24, 48, 72, and 168 h after transplant in each animal under the same circumstances. More details are provided in the additional files.)])])]),\n",
       "   ('Sampling',\n",
       "    [('Blood and bronchoalveolar lavage samples',\n",
       "      [('Paragraph7',\n",
       "        [Text(Blood samples were collected from the central ear artery for blood gas analyses using blood gas analyzers (OPTI CCA-TS; OPTI Medical Systems, Roswell, GA, USA) and from the ear vein for hematologic parameter analysis and measurement of cytokines (tumor necrosis factor [TNF]-α, interleukin [IL]-6, and IL-10) with a commercially available enzyme-linked immunosorbent assay kit (EASTBIOPHARM, Hangzhou, China) before transplant of BM-MSCs and then for 3, 6, 12, 24, 48, 72, and 168 h after transplant. Also, bronchoalveolar lavage (BAL) samples were collected by fiberoptic bronchoscope (11262 BC; Karl Storz, Tuttlingen, Germany) before and 24, 48, 72, and 168 h after transplant. Then, the centrifuged BALs were stored at − 80 °C for measurement of cytokines. Protocol details are available in the additional files.)])])]),\n",
       "   ('Histopathology',\n",
       "    [('Paragraph8',\n",
       "      [Text(The rabbits were killed 7 days after BM-MSC transplant. First, the lungs and hearts were macroscopically examined, and then sections of them were routinely prepared, stained with H&E, and observed by use of an E600 Eclipse optical microscope (Nikon Instrument, Tokyo, Japan). More details are provided in the additional files.)])]),\n",
       "   ('Statistical analysis',\n",
       "    [('Paragraph9',\n",
       "      [Text(The results were analyzed statistically using IBM SPSS Statistics version 24 software (IBM, Armonk, NY, USA). For variables in this study, data were analyzed with the repeated measures independent samples ),\n",
       "       Text(t),\n",
       "       Text( test, Friedman test, and Mann-Whitney ),\n",
       "       Text(U),\n",
       "       Text( test, and ),\n",
       "       Text(p),\n",
       "       Text( < 0.05 was considered statistically significant.)])])]),\n",
       " ('Results',\n",
       "  [('Characterization of BMSCs',\n",
       "    [('Culture of BM-MSCs',\n",
       "      [('Paragraph10',\n",
       "        [Text(The plastic adherent BM-MSCs proliferated 5–7 days after seeding and reached 80% confluence about 2 weeks later. After three passages, the adherent cells were observed by microscopy to display homogeneous spindle fibroblast-like morphology (Additional file ),\n",
       "         ReferencedContent(href=None, text=1),\n",
       "         Text(: Figure S1).)])]),\n",
       "     ('Flow cytometric analysis',\n",
       "      [('Paragraph11',\n",
       "        [Text(Flow cytometric analysis demonstrated that cultured BM-MSCs expressed a particular pattern of cell surface markers of CD29 and CD90, 92% and 89%, respectively, but were uniformly negative for CD34 and CD45 (Additional file ),\n",
       "         ReferencedContent(href=None, text=1),\n",
       "         Text(: Figure S2), which indicates cultured adherent cells were MSCs with high purity. Thus, the pure MSCs whose immunophenotype was confirmed were used in this study.)])]),\n",
       "     ('Differentiation',\n",
       "      [('Paragraph12',\n",
       "        [Text(Multilineage differentiation ability of BM-MSCs to engage in osteogenic and adipogenic differentiation in vitro confirmed potential pluripotent MSCs, and their ability to form osteoblasts and adipocytes when incubated in differentiation medium was retained (Additional file ),\n",
       "         ReferencedContent(href=None, text=1),\n",
       "         Text(: Figure S3).)])])]),\n",
       "   ('Confirmation of ARDS experimental model',\n",
       "    [('Paragraph13',\n",
       "      [Text(Twenty-four hours after the intrapulmonary administration of LPS, inflammation and edema were stabilized in the lung. Two different evaluations proved ARDS occurrence: (1) Clinical examination showed changes in respiratory sounds during auscultation, such as crackle and wheeze, increased respiratory rate/hyperpnea (),\n",
       "       Text(p),\n",
       "       Text( = 0.004), heart rate/tachycardia (),\n",
       "       Text(p),\n",
       "       Text( = 0.008) and body temperature/hyperthermia (),\n",
       "       Text(p),\n",
       "       Text( = 0.011), cough, mucus hyperemia, abnormal discharge, and reduced appetite; and (2) plain chest radiograph showing significant bilateral radiologic density (air bronchogram and air alveologram patterns and lung edema and bronchial and bronchiolar septum thickness) were also confirmed (Additional file ),\n",
       "       ReferencedContent(href=None, text=1),\n",
       "       Text(: Figure S4). These results confirmed the experimental model of ARDS compared with the baseline 24 h after injection of LPS.)])]),\n",
       "   ('Clinical and paraclinical findings after transplant of BM-MSCs in an experimental model of ARDS',\n",
       "    [('Improved clinical signs with MSCs',\n",
       "      [('Paragraph14',\n",
       "        [Text(According to the statistical analysis, reduction of RR in the treatment group was significant at 24 h (),\n",
       "         Text(p),\n",
       "         Text( = 0.002), 48 h (),\n",
       "         Text(p),\n",
       "         Text( = 0.036), 72 h (),\n",
       "         Text(p),\n",
       "         Text( = 0.037), and 168 h (),\n",
       "         Text(p),\n",
       "         Text( = 0.042) after BM-MSC transplant compared with time 0 (before BM-MSC transplant). HR reduction was significant at 24 h (),\n",
       "         Text(p),\n",
       "         Text( = 0.047) after transplant compared with time 0, but in RR and HR in the control group, it was not significantly different at various times. The RR results of the comparison between two groups showed a significant difference at 24 h (),\n",
       "         Text(p),\n",
       "         Text( = 0.028), 48 h (),\n",
       "         Text(p),\n",
       "         Text( = 0.03), 72 h (),\n",
       "         Text(p),\n",
       "         Text( = 0.01), and 168 h (),\n",
       "         Text(p),\n",
       "         Text( = 0.044) (Fig. ),\n",
       "         ReferencedContent(href=None, text=1),\n",
       "         Text( and Additional file ),\n",
       "         ReferencedContent(href=None, text=1),\n",
       "         Text(: Table S2). The body temperature change in rabbits of the treatment group was significant at 6 h (),\n",
       "         Text(p),\n",
       "         Text( = 0.010), 12 h (),\n",
       "         Text(p),\n",
       "         Text( = 0.016), 24 h (),\n",
       "         Text(p),\n",
       "         Text( = 0.044), 72 h (),\n",
       "         Text(p),\n",
       "         Text( = 0.044), and 168 h(),\n",
       "         Text(p),\n",
       "         Text( = 0.043) after transplant compared with time 0. Also, the comparison between two groups showed significant differences at 12 h (),\n",
       "         Text(p),\n",
       "         Text( = 0.047), 24 h (),\n",
       "         Text(p),\n",
       "         Text( = 0.021), 48 h (),\n",
       "         Text(p),\n",
       "         Text( = 0.035), and 168 h (),\n",
       "         Text(p),\n",
       "         Text( = 0.037) (Fig. ),\n",
       "         ReferencedContent(href=None, text=1),\n",
       "         Text( and Additional file ),\n",
       "         ReferencedContent(href=None, text=1),\n",
       "         Text(: Table S2).),\n",
       "         Figure(label=None, caption=Vital signs of rabbits (mean ± SD) in the treatment (acute respiratory distress syndrome [ARDS] + bone marrow mesenchymal stem cells) and control (ARDS + PBS) groups at the different time points. a Respiratory rate. b Heart rate. c Body temperature, text=)]),\n",
       "       ('Paragraph15',\n",
       "        [Text(Changes in respiratory sounds (including crackle, wheeze, friction sounds) in the treatment group were significant compared with the control group at 24 h (),\n",
       "         Text(p),\n",
       "         Text( = 0.50), 48 h (),\n",
       "         Text(p),\n",
       "         Text( = 0.014), 72 h (),\n",
       "         Text(p),\n",
       "         Text( = 0.017), and 168 h (),\n",
       "         Text(p),\n",
       "         Text( = 0.014) after transplant. Comparison of appetite between the two groups displayed a positive and significant association at 12 h (),\n",
       "         Text(p),\n",
       "         Text( = 0.002), 24 h (),\n",
       "         Text(p),\n",
       "         Text( = 0.014), 48 h (),\n",
       "         Text(p),\n",
       "         Text( = 0.007), 72 h (),\n",
       "         Text(p),\n",
       "         Text( = 0.004), and 168 h (),\n",
       "         Text(p),\n",
       "         Text( = 0.004) after transplant.)]),\n",
       "       ('Paragraph16',\n",
       "        [Text(In both groups, after inflammation, unilateral or bilateral mucosal secretions from the nose were produced that were occasionally accompanied by color changes. But after transplant of BM-MSCs, statistical comparison showed a significant decrease in nasal discharge compared with the control group at 24 h (),\n",
       "         Text(p),\n",
       "         Text( = 0.011), 48 h (),\n",
       "         Text(p),\n",
       "         Text( = 0.007), 72 h (),\n",
       "         Text(p),\n",
       "         Text( = 0.007), and 168 h (),\n",
       "         Text(p),\n",
       "         Text( = 0.008). The regular rhythm of nasal twitching in the rabbit is a reason for the rabbit’s health and alertness. Nasal twitching was reduced at the time of inflammation. But there was a significant difference between results at 12 h (),\n",
       "         Text(p),\n",
       "         Text( = 0.005), 24 h (),\n",
       "         Text(p),\n",
       "         Text( = 0.005), 72 h (),\n",
       "         Text(p),\n",
       "         Text( = 0.014), and 168 h (),\n",
       "         Text(p),\n",
       "         Text( = 0.014) after transplant.)]),\n",
       "       ('Paragraph17',\n",
       "        [Text(Also, there was a significant decrease in cough count between the two groups at 12 h (),\n",
       "         Text(p),\n",
       "         Text( = 0.014), 24 h (),\n",
       "         Text(p),\n",
       "         Text( = 0.005), 48 h (),\n",
       "         Text(p),\n",
       "         Text( = 0.006), 72 h (),\n",
       "         Text(p),\n",
       "         Text( = 0.004), and 168 h (),\n",
       "         Text(p),\n",
       "         Text( = 0.005). Regarding the statistical analysis, comparison of mucous membranes (conjunctiva, palpebra tertia, gingiva, rectum) in both groups showed hyperemia reduced at 24 h (),\n",
       "         Text(p),\n",
       "         Text( = 0.031), 48 h (),\n",
       "         Text(p),\n",
       "         Text( = 0.011), 72 h (),\n",
       "         Text(p),\n",
       "         Text( = 0.005), and 168 h (),\n",
       "         Text(p),\n",
       "         Text( = 0.005) after BM-MSC transplant. After inflammation, rabbits showed depression and delay in response to environmental stimuli. But transplant of BM-MSCs indicated a significant improvement in consciousness at 24 h (),\n",
       "         Text(p),\n",
       "         Text( = 0.017), 48 h (),\n",
       "         Text(p),\n",
       "         Text( = 0.017), 72 h (),\n",
       "         Text(p),\n",
       "         Text( = 0.004), and 168 h (),\n",
       "         Text(p),\n",
       "         Text( = 0.005).)])])]),\n",
       "   ('MSCs cause blood cells and BAL cells to balance',\n",
       "    [('Blood cells',\n",
       "      [('Paragraph18',\n",
       "        [Text(The measured blood parameters at different times are shown in the Table ),\n",
       "         ReferencedContent(href=None, text=1),\n",
       "         Text(. Rabbits in the two groups had significant leukocytosis 1 day after inflammation (),\n",
       "         Text(p),\n",
       "         Text( < 0.005). But the BM-MSC transplant reduced the number of white blood cells. The changes were significant at 12 h (),\n",
       "         Text(p),\n",
       "         Text( = 0.046), 24 h (),\n",
       "         Text(p),\n",
       "         Text( = 0.019), 48 h (),\n",
       "         Text(p),\n",
       "         Text( = 0.022), 72 h (),\n",
       "         Text(p),\n",
       "         Text( = 0.044), and 168 h (),\n",
       "         Text(p),\n",
       "         Text( = 0.043) compared with time 0. Also, comparison of the two groups showed that cell transplant was effective at 6 h (),\n",
       "         Text(p),\n",
       "         Text( = 0.043), 12 h (),\n",
       "         Text(p),\n",
       "         Text( = 0.000), and 24 h (),\n",
       "         Text(p),\n",
       "         Text( = 0.047) (Table ),\n",
       "         ReferencedContent(href=None, text=1),\n",
       "         Text().),\n",
       "         ('Table 1Hematological parameters', [[Table(shape=(19, 11))]])]),\n",
       "       ('Paragraph19',\n",
       "        [Text(The transplant of BM-MSCs reduced the heterophil count following ARDS. Changes were significant at 12 h (),\n",
       "         Text(p),\n",
       "         Text( = 0.048), 24 h (),\n",
       "         Text(p),\n",
       "         Text( = 0.049), 48 h (),\n",
       "         Text(p),\n",
       "         Text( = 0.009), 72 h (),\n",
       "         Text(p),\n",
       "         Text( = 0.007), and 168 h (),\n",
       "         Text(p),\n",
       "         Text( = 0.024) against inflammation time (time 0). The comparison between two groups showed significant differences at 3 h (),\n",
       "         Text(p),\n",
       "         Text( = 0.020), 6 h (),\n",
       "         Text(p),\n",
       "         Text( = 0.042), 12 h (),\n",
       "         Text(p),\n",
       "         Text( = 0.030), 24 h (),\n",
       "         Text(p),\n",
       "         Text( = 0.001), and 48 h (),\n",
       "         Text(p),\n",
       "         Text( = 0.046) (Additional file ),\n",
       "         ReferencedContent(href=None, text=1),\n",
       "         Text(: Figure S5).)]),\n",
       "       ('Paragraph20',\n",
       "        [Text(Comparison of heterophil band numbers between the two groups showed that cell transplant was affected at 48 h (),\n",
       "         Text(p),\n",
       "         Text( = 0.046), 72 h (),\n",
       "         Text(p),\n",
       "         Text( = 0.021), and 168 h (),\n",
       "         Text(p),\n",
       "         Text( = 0.038).)]),\n",
       "       ('Paragraph21',\n",
       "        [Text(Statistical analysis showed that there was no significant difference in the lymphocyte count, monocytes, platelets, hematocrit in or between the treatment and control groups during the study. There was a significant difference in the number of red blood cells (),\n",
       "         Text(p),\n",
       "         Text( = 0.007) and concentration of hemoglobin (),\n",
       "         Text(p),\n",
       "         Text( = 0.027) in the treatment group compared with the control group only at 48 h.)])]),\n",
       "     ('Cells from BAL',\n",
       "      [('Paragraph22',\n",
       "        [Text(In BAL, the total nucleated cell count included ciliated epithelial cells, squamous epithelial cells, alveolar macrophages, leukocytes, heterophils, eosinophils, and plasma cells. Typically, total leukocyte cells in treatment group included macrophages and lymphocytes, and in the control group, they included macrophages and heterophils (Fig. ),\n",
       "         ReferencedContent(href=None, text=2),\n",
       "         Text().),\n",
       "         Figure(label=None, caption=Determination of complete cell counts in bronchoalveolar lavage (BAL) samples of the rabbit. Using Wright-Giemsa staining, we counted inflammatory cells in the BAL samples of the control group among the total of 100 cells. Macrophages (arrow), heterophils (thick arrow), lymphocyte (arrowhead). Bars = 50 μm, text=)]),\n",
       "       ('Paragraph23',\n",
       "        [Text(The results demonstrated that the BAL cell count was significantly increased in inflammatory conditions, but transplant of stromal cells caused the inflammatory cells to balance so that, in the treatment group, decrease of the total cell count was significant at all times except time 0 (),\n",
       "         Text(p),\n",
       "         Text( < 0.05), and there was a significant reduction in the total cell count compared with the control group at 24 h (),\n",
       "         Text(p),\n",
       "         Text( = 0.045), 48 h (),\n",
       "         Text(p),\n",
       "         Text( = 0.46), and 72 h (),\n",
       "         Text(p),\n",
       "         Text( = 0.048). Also, BM-MSCs were able to significantly reduce the number of alveolar heterotrophs, as well as the number of macrophages in BAL, so that decrease of heterotrophs was significant at 12 h (),\n",
       "         Text(p),\n",
       "         Text( = 0.03), 24 h (),\n",
       "         Text(p),\n",
       "         Text( = 0.01), 48 h, 72 h, and 168 h (),\n",
       "         Text(p),\n",
       "         Text( = 0.000) against inflammation time and at 48 h (),\n",
       "         Text(p),\n",
       "         Text( = 0.049), 72 h (),\n",
       "         Text(p),\n",
       "         Text( = 0.031), and 168 h (),\n",
       "         Text(p),\n",
       "         Text( = 0.042) compared with the control group. Also, reduction in macrophages was significant at 72 h (),\n",
       "         Text(p),\n",
       "         Text( = 0.033) and 168 h (),\n",
       "         Text(p),\n",
       "         Text( = 0.005) compared with time 0. No significant change in the number of lymphocytes was observed in or between the two groups (Fig. ),\n",
       "         ReferencedContent(href=None, text=3),\n",
       "         Text() (Additional file ),\n",
       "         ReferencedContent(href=None, text=1),\n",
       "         Text(: Table S3).),\n",
       "         Figure(label=None, caption=The number of bronchoalveolar lavage cells of rabbits (mean ± SD) in the treatment (acute respiratory distress syndrome [ARDS] + bone marrow mesenchymal stem cells) and control (ARDS + PBS) groups during the different times of sampling. a Total cells. b Macrophages. c Heterophils, text=)])])]),\n",
       "   ('Regulation of arterial blood gases with MSCs',\n",
       "    [('Paragraph24',\n",
       "      [Text(The partial pressure of oxygen (PO),\n",
       "       Text(2),\n",
       "       Text() and O),\n",
       "       Text(2),\n",
       "       Text( saturation (SatO),\n",
       "       Text(2),\n",
       "       Text() levels were decreased, and partial pressure of carbon dioxide (PCO),\n",
       "       Text(2),\n",
       "       Text() levels were increased, in ARDS (time 0) compared with baseline (− 24 h), significantly. Following BM-MSC transplant, PO),\n",
       "       Text(2),\n",
       "       Text( increment was significant at 12 h (),\n",
       "       Text(p),\n",
       "       Text( = 0.043), 24 h (),\n",
       "       Text(p),\n",
       "       Text( = 0.005), and 48 h (),\n",
       "       Text(p),\n",
       "       Text( = 0.005), and comparison between the two groups demonstrated that severe hypoxemia was significantly recovered after transplant at 12 h (),\n",
       "       Text(p),\n",
       "       Text( = 0.027), 24 h (),\n",
       "       Text(p),\n",
       "       Text( = 0.042), and 48 h (),\n",
       "       Text(p),\n",
       "       Text( = 0.040).)]),\n",
       "     ('Paragraph25',\n",
       "      [Text(Also, following transplant of BM-MSCs, changes of SatO),\n",
       "       Text(2),\n",
       "       Text( were significant at 12 h (),\n",
       "       Text(p),\n",
       "       Text( = 0.038), 24 h (),\n",
       "       Text(p),\n",
       "       Text( = 0.030), 48 h (),\n",
       "       Text(p),\n",
       "       Text( = 0.009), 72 h (),\n",
       "       Text(p),\n",
       "       Text( = 0.007), and 168 h (),\n",
       "       Text(p),\n",
       "       Text( = 0.024) compared with time 0, and comparison of the two groups showed that cell transplant was effective at 3 h (),\n",
       "       Text(p),\n",
       "       Text( = 0.020), 6 h (),\n",
       "       Text(p),\n",
       "       Text( = 0.042), 12 h (),\n",
       "       Text(p),\n",
       "       Text( = 0.030), 24 h (),\n",
       "       Text(p),\n",
       "       Text( = 0.001), and 48 h (),\n",
       "       Text(p),\n",
       "       Text( = 0.046) (Additional file ),\n",
       "       ReferencedContent(href=None, text=1),\n",
       "       Text(: Table S4).)]),\n",
       "     ('Paragraph26',\n",
       "      [Text(Additionally, PCO),\n",
       "       Text(2),\n",
       "       Text( was significantly decreased in the treatment group at 24 h (),\n",
       "       Text(p),\n",
       "       Text( = 0.036), 48 h (),\n",
       "       Text(p),\n",
       "       Text( = 0.034), and 72 h (),\n",
       "       Text(p),\n",
       "       Text( = 0.01) after transplant, and comparison between the two groups displayed a significant decrease of PCO),\n",
       "       Text(2),\n",
       "       Text( at 48 h and 72 h (),\n",
       "       Text(p),\n",
       "       Text( = 0.016).)]),\n",
       "     ('Paragraph27',\n",
       "      [Text(Also, statistical analysis for pH value indicated significant differences between the two groups at 24 h (),\n",
       "       Text(p),\n",
       "       Text( = 0.019). Respiratory acidosis occurred in both groups at 3 and 6 h via pH decrease and increase in PCO),\n",
       "       Text(2),\n",
       "       Text(. Analysis of bicarbonate, base excess, and anion gap data showed no significant difference in and between the two groups (Fig. ),\n",
       "       ReferencedContent(href=None, text=4),\n",
       "       Text().),\n",
       "       Figure(label=None, caption=Arterial blood gas analysis of rabbits (mean ± SD) in the treatment (acute respiratory distress syndrome [ARDS] + bone marrow mesenchymal stem cells) and control (ARDS + PBS) groups during the different times of sampling. a Partial pressure of carbon dioxide. b Partial pressure of oxygen. c O2 saturation, text=)])]),\n",
       "   ('Effect of MSCs on arterial blood electrolytes',\n",
       "    [('Paragraph28',\n",
       "      [Text(The results showed nonsignificant reduction in the value of Na),\n",
       "       Text(+),\n",
       "       Text(, K),\n",
       "       Text(+),\n",
       "       Text(, and Cl),\n",
       "       Text(−),\n",
       "       Text( in and between the treatment and control groups at the different times and alone. There was a significant difference in the Cl),\n",
       "       Text(−),\n",
       "       Text( value in the treatment group compared with the control group at 24 h (),\n",
       "       Text(p),\n",
       "       Text( = 0.029) (Additional file ),\n",
       "       ReferencedContent(href=None, text=1),\n",
       "       Text(: Table S5).)])]),\n",
       "   ('Reduced levels of proinflammatory cytokines and increase in anti-inflammatory cytokine by MSCs',\n",
       "    [('Paragraph29',\n",
       "      [Text(Duplicated measurements of each variable were performed, and the average of the data was obtained. The measured cytokine levels in plasma and BAL samples at different times are shown in Additional file ),\n",
       "       ReferencedContent(href=None, text=1),\n",
       "       Text(: Table S6. BM-MSC transplant decreased proinflammatory cytokines (TNF-α and IL-6) and increased anticytokine inflammation (IL-10) during endotoxin injury in plasma and BAL.)]),\n",
       "     ('Paragraph30',\n",
       "      [Text(After transplant of MSCs, the concentration of the TNF-α in BAL decreased at 12 h (),\n",
       "       Text(p),\n",
       "       Text( = 0.035), 24 h (),\n",
       "       Text(p),\n",
       "       Text( = 0.011), 48 h (),\n",
       "       Text(p),\n",
       "       Text( = 0.007), and 168 h (),\n",
       "       Text(p),\n",
       "       Text( = 0.014) compared with time 0, significantly, and comparison of the two groups showed that cell transplant was affected at times of 12 h (),\n",
       "       Text(p),\n",
       "       Text( = 0.031), 24 h (),\n",
       "       Text(p),\n",
       "       Text( = 0.018), 48 h (),\n",
       "       Text(p),\n",
       "       Text( = 0.009), and 168 h (),\n",
       "       Text(p),\n",
       "       Text( = 0.014). Also, the levels of TNF-α in plasma were recovered with MSCs at 24 h (),\n",
       "       Text(p),\n",
       "       Text( = 0.040), 48 h (),\n",
       "       Text(p),\n",
       "       Text( = 0.006), 72 h (),\n",
       "       Text(p),\n",
       "       Text( = 0.002), and 168 h (),\n",
       "       Text(p),\n",
       "       Text( = 0.003) against inflammation time (0 h), significantly, and comparison of the two groups showed significant difference at 72 h (),\n",
       "       Text(p),\n",
       "       Text( = 0.008) and 168 h (),\n",
       "       Text(p),\n",
       "       Text( = 0.025).)]),\n",
       "     ('Paragraph31',\n",
       "      [Text(The IL-6 concentration was downregulated by MSCs, so that the levels of IL-6 in the BAL were significantly lower at times of 12 h (),\n",
       "       Text(p),\n",
       "       Text( = 0.047), 24 h (),\n",
       "       Text(p),\n",
       "       Text( = 0.011), 48 h (),\n",
       "       Text(p),\n",
       "       Text( = 0.001), and 168 h (),\n",
       "       Text(p),\n",
       "       Text( = 0.041) than time 0. Comparison of the two groups indicated significant differences at 12 h (),\n",
       "       Text(p),\n",
       "       Text( = 0.032), 24 h (),\n",
       "       Text(p),\n",
       "       Text( = 0.018), 72 h (),\n",
       "       Text(p),\n",
       "       Text( = 0.041), and 168 h (),\n",
       "       Text(p),\n",
       "       Text( = 0.008). Also, the concentration of IL-6 was significant in plasma 48 h (),\n",
       "       Text(p),\n",
       "       Text( = 0.048) and 168 h (),\n",
       "       Text(p),\n",
       "       Text( = 0.001) after MSC transplant against the inflammation time (0 h), and comparison of the two groups showed that cell therapy was affected at 24 h (),\n",
       "       Text(p),\n",
       "       Text( = 0.001), 48 h (),\n",
       "       Text(p),\n",
       "       Text( = 0.005), and 168 h (),\n",
       "       Text(p),\n",
       "       Text( = 0.012). These results demonstrated the immunomodulatory potential of these BM-MSCs.)]),\n",
       "     ('Paragraph32',\n",
       "      [Text(In contrast, when MSCs were administered, IL-10 was significantly increased in the BAL and plasma. Concentration of IL-10 in BAL was significant at 12 h (),\n",
       "       Text(p),\n",
       "       Text( = 0.047), 24 h (),\n",
       "       Text(p),\n",
       "       Text( = 0.011), 48 h (),\n",
       "       Text(p),\n",
       "       Text( = 0.001), and 168 h (),\n",
       "       Text(p),\n",
       "       Text( = 0.041) compared with time 0, and comparison of the two groups showed significant differences at 12 h (),\n",
       "       Text(p),\n",
       "       Text( = 0.032), 24 h (),\n",
       "       Text(p),\n",
       "       Text( = 0.018), 72 h (),\n",
       "       Text(p),\n",
       "       Text( = 0.041), and 168 h (),\n",
       "       Text(p),\n",
       "       Text( = 0.008) (Fig. ),\n",
       "       ReferencedContent(href=None, text=5),\n",
       "       Text(). Also, increase of IL-10 concentration in plasma was significant at 48 h (),\n",
       "       Text(p),\n",
       "       Text( = 0.047), 72 h (),\n",
       "       Text(p),\n",
       "       Text( = 0.044), and 168 h (),\n",
       "       Text(p),\n",
       "       Text( = 0.022) against time 0. MSCs also increased plasma IL-10 concentrations compared with control group at 48 h (),\n",
       "       Text(p),\n",
       "       Text( = 0.043) and 72 h (),\n",
       "       Text(p),\n",
       "       Text( = 0.029), significantly (Fig. ),\n",
       "       ReferencedContent(href=None, text=5),\n",
       "       Text(), so that BMSCs reduced lung injury and inflammation via significant immunomodulatory properties and attenuated the severity of ARDS.),\n",
       "       Figure(label=None, caption=Amount of cytokines in bronchoalveolar lavage and plasma of rabbits (mean ± SD) in the treatment (acute respiratory distress syndrome [ARDS] + bone marrow mesenchymal stem cells) and control (ARDS + PBS) groups at the different times of sampling. a–c BAL samples: a Tumor necrosis factor (TNF)-α. b Interleukin (IL)-6. c IL-10. d–f Plasma samples: d TNF-α. e IL-6. f IL-10, text=)])]),\n",
       "   ('Imaging findings',\n",
       "    [('Tomodensitometric and volumetric findings of lung CT scans',\n",
       "      [('Paragraph33',\n",
       "        [Text(Hounsfield units and volumes of the aerated and nonaerated areas of the right and left lungs were measured on CT scans. Quantitative estimation (the Hounsfield unit measurement) was done for different adjacent CT sections with the Leonardo workstation and software tools (Siemens). Lung parenchymal margins were manually demarcated, and then average Hounsfield units were obtained for each section. Also, the 3D pattern was observed for a better evaluation of the lung parenchyma (data not shown). These measurements demonstrated that Hounsfield units had increased 1 day after the experimental inflammation (before stromal cells therapy), which represents replacement of alveolar air with mucous and inflammatory cells (Fig. ),\n",
       "         ReferencedContent(href=None, text=6),\n",
       "         Text(). A significant decrease in the Hounsfield units was seen at 48 h (),\n",
       "         Text(p),\n",
       "         Text( = 0.032), 72 h (),\n",
       "         Text(p),\n",
       "         Text( = 0.036), and 168 h (),\n",
       "         Text(p),\n",
       "         Text( = 0.025) post-transplant, which indicates an increase in aerated volume of the lung in the treatment group. Also, variation volumes were compared and showed that total lung volume (aerated + nonaerated + tissue + edematous fluids) in both groups increased after ARDS, but transplant of BM-MSCs had decreased the process at 72 h (),\n",
       "         Text(p),\n",
       "         Text( = 0.047) and 168 h (),\n",
       "         Text(p),\n",
       "         Text( = 0.027). On CT scans, most nonaerated areas were observed in lower lobes in the caudoventral area (Fig. ),\n",
       "         ReferencedContent(href=None, text=7),\n",
       "         Text( and Additional file ),\n",
       "         ReferencedContent(href=None, text=1),\n",
       "         Text(: Table S7).),\n",
       "         Figure(label=None, caption=High-resolution computed tomographic scans of the thorax (lung window) in the rabbit. a Transverse section of lung. b Increased attenuation due to inflammation in the lung of the control group. Notice the typical air bronchogram (alveolar lung pattern). c Decreased attenuation in the lung of the treatment group (recipient of bone marrow mesenchymal stem cells). The dorsal regions of the lung have the highest volume, text=),\n",
       "         Figure(label=None, caption=The amount of computed tomographic scan volumetry (mean Hounsfield units and total volume) of rabbits (mean ± SD) in the treatment (acute respiratory distress syndrome [ARDS] + bone marrow mesenchymal stem cells) and control (ARDS+PBS) groups at the different time points. a Mean Hounsfield units. b Total volume, text=)])])]),\n",
       "   ('Echocardiography findings',\n",
       "    [('Paragraph34',\n",
       "      [Text(The images and amounts of Doppler and M-mode echocardiographic parameters are shown in Additional file ),\n",
       "       ReferencedContent(href=None, text=1),\n",
       "       Text(: Figure S6. The amounts of BAL and plasma cytokines of rabbits are shown in Fig. ),\n",
       "       ReferencedContent(href=None, text=6),\n",
       "       Text( and Table ),\n",
       "       ReferencedContent(href=None, text=2),\n",
       "       Text(, respectively. Echocardiographic data showed no significant difference in the treatment group (BM-MSC recipients), but comparison of the two groups revealed that percentage ejection fraction at 72 h (),\n",
       "       Text(p),\n",
       "       Text( = 0.042) and 168 h (),\n",
       "       Text(p),\n",
       "       Text( = 0.038), percentage fractional shortening at 72 h (),\n",
       "       Text(p),\n",
       "       Text( = 0.049) and 168 h (),\n",
       "       Text(p),\n",
       "       Text( = 0.044), interventricular septal end diastole at 48 h (),\n",
       "       Text(p),\n",
       "       Text( = 0.014), 72 h (),\n",
       "       Text(p),\n",
       "       Text( = 0.038), and 168 h (),\n",
       "       Text(p),\n",
       "       Text( = 0.042), interventricular septal end systole at 24 h (),\n",
       "       Text(p),\n",
       "       Text( = 0.005), 48 h (),\n",
       "       Text(p),\n",
       "       Text( = 0.009), and 72 h (),\n",
       "       Text(p),\n",
       "       Text( = 0.010), left ventricular internal dimension systole at 72 h (),\n",
       "       Text(p),\n",
       "       Text( = 0.048) and 168 h (),\n",
       "       Text(p),\n",
       "       Text( = 0.022), aortic root diameter at 72 h (),\n",
       "       Text(p),\n",
       "       Text( = 0.027) and 168 h (),\n",
       "       Text(p),\n",
       "       Text( = 0.042), left atrial diameter at 168 h (),\n",
       "       Text(p),\n",
       "       Text( = 0.048), left ventricular outflow tract maximum velocity at 168 h (),\n",
       "       Text(p),\n",
       "       Text( = 0.041) and right ventricular outflow tract maximum velocity at 168 h (),\n",
       "       Text(p),\n",
       "       Text( = 0.039) had significant differences.),\n",
       "       ('Table 2M-mode and Doppler echocardiography parameters',\n",
       "        [[Table(shape=(34, 9))]])])]),\n",
       "   ('Findings of gross pathology and histopathology',\n",
       "    [('Paragraph35',\n",
       "      [Text(The macroscopic examination of the lungs showed hyperemia, hemorrhage, emphysema, edema, and hepatization in the control group (Fig. ),\n",
       "       ReferencedContent(href=None, text=8),\n",
       "       Text(a), but brief hyperemia and edema were observed in the treatment group (Fig. ),\n",
       "       ReferencedContent(href=None, text=8),\n",
       "       Text(f). Sections of the lung demonstrated different histopathological patterns between the control and treatment groups. Microscopically, lungs showed more severe damage in the control group than the treatment group as hemorrhage in parenchyma and alveoli, moderate to severe vascular hyperemia, moderate to severe interstitial pneumonia, severe alveolar injuries and edema, neutrophilic margination in the capillary vessels, abundant presence of inflammatory cells, epithelial cells and other cell debris (cellularity) in interstitial spaces and alveoli, and thickness of the alveolar septum (Fig. ),\n",
       "       ReferencedContent(href=None, text=8),\n",
       "       Text(b–d). But treatment with BM-MSCs reduced the infiltration rate of inflammatory cells in the alveolar septum, hyperemia, hemorrhage, and edema, and lung structure was approximately normal and only slightly increased the thickness of the alveolar septum. Also, in most sections of the treatment group, injury in the bronchus, bronchioles, and vessels was not observed (Fig. ),\n",
       "       ReferencedContent(href=None, text=8),\n",
       "       Text(g–i).),\n",
       "       Figure(label=None, caption=Necropsy and histopathological findings in the rabbit. a–e Control group. a Macroscopic examination of the lung shows hyperemia, hemorrhage, and edema. b Interstitial edema and pneumonia (arrow). b and c Inflammatory cell infiltration (arrowhead). d Hyperemia and severe hemorrhage in alveoli and parenchyma (arrows). e Myofibrils necrosis of heart (arrow). f–k Treatment group. f Macroscopic examination of the lung shows brief hyperemia and edema. g–i Histopathological examination reveals a decrease in damage in the alveoli and parenchyma of the lung. k Lack of damage to the heart. Note: In all of the tables, data were presented as mean ± SD (n = 5 rabbit per group). *p < 0.05 significant compared with inflammation time in the same group. #p < 0.05 significant compared with the control group at the same time, text=)]),\n",
       "     ('Paragraph36',\n",
       "      [Text(In macroscopic observations of the heart, no lesions were found in both treatment and control groups, but in the microscopic examination of the heart sections in the control group, necroses were observed in a small number of myofibers (Fig. ),\n",
       "       ReferencedContent(href=None, text=8),\n",
       "       Text(e), whereas in treatment group, no injury was observed (Fig. ),\n",
       "       ReferencedContent(href=None, text=8),\n",
       "       Text(k).)])])]),\n",
       " ('Discussion',\n",
       "  [('Paragraph37',\n",
       "    [Text(BM-MSCs are an ideal choice for cell therapy because there are fewer complications for cell isolation and also BM autologous cells that are capable of eliminating immune response and transplant rejection [),\n",
       "     ReferencedContent(href=None, text=22),\n",
       "     Text(]. MSCs have positive effects in the repair of ARDS [),\n",
       "     ReferencedContent(href=None, text=23),\n",
       "     Text(].)]),\n",
       "   ('Paragraph38',\n",
       "    [Text(Although fibroblasts play a role in normal and pathological repair, and an accumulation of fibrocytes, fibroblasts, and myofibroblasts in the alveolar compartment, leading to excessive deposition components of the extracellular matrix but also according to prior findings the effect of them remains controversial [),\n",
       "     ReferencedContent(href=None, text=23),\n",
       "     Text(–),\n",
       "     ReferencedContent(href=None, text=25),\n",
       "     Text(] and unknown, so that reduction of its deposition or enhancement of its degradation could be treatment strategies. [),\n",
       "     ReferencedContent(href=None, text=24),\n",
       "     Text(])]),\n",
       "   ('Paragraph39',\n",
       "    [Text(The results of this study showed that the BM-MSCs significantly decreased the severity of clinical symptoms induced by LPS, the number of inflammatory cells in blood and BAL, and balanced the values of arterial blood gases and cytokines. On the CT scans, a significant decrease in the Hounsfield units was observed, which is indicative of an increase in aerated volume of the lung in the treatment group. The echocardiographic parameters did not reveal a significant difference in the treatment group, and compared with the two groups together it was significant. Also, the histopathology demonstrated reduction in the infiltration of inflammatory cells and pulmonary hemorrhage and edema in the recipients of BM-MSCs.)]),\n",
       "   ('Paragraph40',\n",
       "    [Text(In natural conditions, cells from bone marrow migrated to chemotactic gradients, but the amount of engraftment was low, and use of exogenous stromal cells can be helpful to this mechanism. The exact mechanisms of MSCs’ actions are not precise [),\n",
       "     ReferencedContent(href=None, text=25),\n",
       "     Text(], and sometimes the results of stromal cell research using animal models are incompatible with each other [),\n",
       "     ReferencedContent(href=None, text=23),\n",
       "     Text(]. However, three mechanisms have been defined for MSCs’ actions consisting of differentiation, cell–cell contact and paracrine function via the soluble factors [),\n",
       "     ReferencedContent(href=None, text=25),\n",
       "     Text(, ),\n",
       "     ReferencedContent(href=None, text=26),\n",
       "     Text(]. Researchers are likely to focus on manipulation of inflammatory pathways and optimizing lung repair while preventing ARDS progression [),\n",
       "     ReferencedContent(href=None, text=6),\n",
       "     Text(]; whereas management of inflammatory pathways forbids the development of ARDS, some researchers believe in the immunomodulatory effects of MSCs [),\n",
       "     ReferencedContent(href=None, text=6),\n",
       "     Text(]. Most trials have used local delivery of autologous BM-MSCs with the aim increasing the concentration of growth factors and cytokines in damaged tissue to improve possible engraftment and repair [),\n",
       "     ReferencedContent(href=None, text=23),\n",
       "     Text(]. For the first time, Gupta et al. reported effects of the local delivery of MSCs in ARDS that are consistent with this study [),\n",
       "     ReferencedContent(href=None, text=26),\n",
       "     Text(].)]),\n",
       "   ('Paragraph41',\n",
       "    [Text(The anti-inflammatory role of MSCs may vary in humans and animals, but the useful effects of MSCs have been shown in several animal models [),\n",
       "     ReferencedContent(href=None, text=27),\n",
       "     Text(] and indicate the significant role of identification feature of MSCs [),\n",
       "     ReferencedContent(href=None, text=22),\n",
       "     Text(]. LPS of gram-negative bacterial wall binds to the CD14/TLR4/MD2 receptor complex, activating pathway and transcription of some inflammation- and apoptosis-related genes and activating innate immune response [),\n",
       "     ReferencedContent(href=None, text=18),\n",
       "     Text(, ),\n",
       "     ReferencedContent(href=None, text=25),\n",
       "     Text(] that produces the acute phase of ARDS. Therefore, the LPS-induced animal models could be suitable for cell therapy. In prior findings, only a few animal models have been used to investigate the mechanism of MSC therapy in ARDS, most of which used rat and mouse [),\n",
       "     ReferencedContent(href=None, text=25),\n",
       "     Text(, ),\n",
       "     ReferencedContent(href=None, text=28),\n",
       "     Text(–),\n",
       "     ReferencedContent(href=None, text=31),\n",
       "     Text(]. Although animal models cannot show all complications of human ARDS, a rabbit can display important physiological and pathological features of human ARDS and can be useful for novel therapeutic strategies [),\n",
       "     ReferencedContent(href=None, text=18),\n",
       "     Text(]. As previously described in this study, we used LPS from ),\n",
       "     Text(E. coli),\n",
       "     Text( strain O55:B5to induce an experimental model of ARDS in the rabbit.)]),\n",
       "   ('Paragraph42',\n",
       "    [Text(Our results displayed inflammatory cells downregulated by BM-MSCs, which can improve the function of the alveolar-capillary membrane, in agreement with the results of Xiang et al. on improving pulmonary microvascular permeability with MSCs [),\n",
       "     ReferencedContent(href=None, text=32),\n",
       "     Text(]. The reduction of heterophils, macrophages, and the number of total cells were observed in the treated group, unlike the results of other research [),\n",
       "     ReferencedContent(href=None, text=26),\n",
       "     Text(]. The complete blood count findings indicated that despite intrapulmonary administration of LPS and MSCs, there is a relationship between the numbers of intravascular and intra-alveolar heterophils and lymphocytes. Direct administration of LPS effects on gas exchange process and induces acute hypoxemia [),\n",
       "     ReferencedContent(href=None, text=33),\n",
       "     Text(]. The results of studies suggest that MSC transplant can improve hypoxemia via reducing alveolar-arterial oxygen gradient [),\n",
       "     ReferencedContent(href=None, text=29),\n",
       "     Text(, ),\n",
       "     ReferencedContent(href=None, text=30),\n",
       "     Text(] which is in agreement with the present study. But the research results of Moodley et al., (2016) conflicted with this study [),\n",
       "     ReferencedContent(href=None, text=27),\n",
       "     Text(]. The difference in injury model and type of cell therapy may be the cause of the variable results. There are not any studies that have reported clinical signs, including HR, RR, and RT, after stromal cell therapy; this study is the first report in which clinical signs were evaluated using a previously described scoring system.)]),\n",
       "   ('Paragraph43',\n",
       "    [Text(The protective effects of BM-MSCs on ARDS are a result of the immune regulation function and inhibitory T-cell function [),\n",
       "     ReferencedContent(href=None, text=31),\n",
       "     Text(]. Monocytes and macrophages can release inflammatory factors such as TNF-α that play a role in phagocytes of the necrotic and apoptotic cells [),\n",
       "     ReferencedContent(href=None, text=34),\n",
       "     Text(]. Because MSC soluble factors may be the therapeutic basis of MSCs, this result is confirmed by recent reports that demonstrated immunomodulatory properties of MSCs [),\n",
       "     ReferencedContent(href=None, text=26),\n",
       "     Text(]. MSCs’ effects are explained by a shift from a proinflammatory to an anti-inflammatory response [),\n",
       "     ReferencedContent(href=None, text=26),\n",
       "     Text(]. Reduced cytokines of proinflammatory (TNF-α and IL-6) and increased cytokines of anti-inflammatory (IL-10) in BAL and plasma samples play principal roles in the treatment mechanism of ARDS [),\n",
       "     ReferencedContent(href=None, text=26),\n",
       "     Text(, ),\n",
       "     ReferencedContent(href=None, text=29),\n",
       "     Text(, ),\n",
       "     ReferencedContent(href=None, text=30),\n",
       "     Text(]. In the present study, the TNF-α concentration decreased following MSC therapy, which is similar to many studies [),\n",
       "     ReferencedContent(href=None, text=31),\n",
       "     Text(]. The IL-10 level increased after the use of MSCs and inhibited antigen-presenting cell function and inflammation and enhanced tolerance, but our findings are not similar to some other studies [),\n",
       "     ReferencedContent(href=None, text=26),\n",
       "     Text(, ),\n",
       "     ReferencedContent(href=None, text=30),\n",
       "     Text(]. Beneficial effects of MSCs may be mediated by a decrease of TNF that indicated the attenuation of the inflammation [),\n",
       "     ReferencedContent(href=None, text=26),\n",
       "     Text(]. Prostaglandin E2 (PGE2) has a critical role in IL-10 and IL-6 secretion from macrophages [),\n",
       "     ReferencedContent(href=None, text=31),\n",
       "     Text(]. It is possible that TNF- and IL-6-dependent PGE2 production plays a major role as a clinical sign and in particular hyperthermia in the acute phase of inflammation [),\n",
       "     ReferencedContent(href=None, text=34),\n",
       "     Text(]. TNF has roles in local inflammation complications such as leukocyte stimulation (neutrophils and macrophage) in BAL and lung endothelium that was shown in the pathology. Also, TNF has roles in systemic complications such as hyperthermia, C-reactive protein, leukocytosis, necrosis, and apoptosis, decreasing appetite, and even decreases of cardiac output and vascular permeability and increases in edema and hypotension.)]),\n",
       "   ('Paragraph44',\n",
       "    [Text(In this study, CT scans and echocardiography were used to follow improvement and management of ARDS during BM-MSC therapy. One particular feature of ARDS is lack of aerated lung volume caused by inflammation and edema, and total lung volume reduction (air + parenchyma) mostly in the lower lobes can explain hypoxemia, low respiratory compliance, and alveolar dead space and increased pulmonary vascular permeability [),\n",
       "     ReferencedContent(href=None, text=35),\n",
       "     Text(, ),\n",
       "     ReferencedContent(href=None, text=36),\n",
       "     Text(]. CT scanning is a common clinical diagnostic tool, a specific, repeatable, and noninvasive technique for diagnosis that until now has rarely been used as a research tool, and there is not any valid data of the distribution region of the existence or absence of air in alveolus during ARDS and especially after cell-based therapy. Our findings based on CT scanning are matched with the diagnosis of pathology and all the other outcomes. Therefore, it can be said that CT scanning is a suitable method for evaluation of the stromal cell therapy effects in pulmonary inflammation and edema, but further studies are needed in this field. Interactions between lung, right ventricle, and pulmonary circulation are critical in ARDS. Serial echocardiographic measurements have a potential clinical diagnosis in the early stage ARDS as a prognostic and therapeutic method. We showed that ARDS causes changes in echocardiographic parameters and reduces cardiac function, whereas transplant of BM-MSCs was able to prevent these changes.)]),\n",
       "   ('Paragraph45',\n",
       "    [Text(We demonstrated that MSCs could attenuate the inflammation by reducing pathological lung changes [),\n",
       "     ReferencedContent(href=None, text=31),\n",
       "     Text(], but in some research, no significant data were reported regarding pathology. This variation may be caused by short study duration so that further studies are needed. Our histopathological examination, like other findings from imaging and all of the laboratory results, showed that BM-MSC transplant could improve ARDS.)])]),\n",
       " ('Conclusions',\n",
       "  [('Paragraph46',\n",
       "    [Text(Many studies on cell-based therapies in ARDS have been done, but most of them focused on molecular and signal tests. Although these studies could clear pathways, they are still far from tissue function. In this study, we tried to explain the MSCs’ effects on organ function. We investigated effects of BM-MSCs in an experimental model of ARDS and confirmed that MSCs decrease inflammation and improve alveolar fluid clearance and have a protective role in ARDS. Improvement in clinical signs, the decrease of inflammatory cells in blood and BAL, the balance in blood gases and cytokines, the decrease in the Hounsfield units, no changes in echocardiographic parameters. and the reduction of pulmonary hemorrhage and edema in pathology were observed. Despite these results, subsequent studies are required to confirm the decrease in inflammation, and physiological parameters over the long term and many experiments should be performed until stromal cell therapy is validated as a method of routine clinical treatment.)])]),\n",
       " ('Additional file',\n",
       "  [('Section', [('Paragraph47', [Text(\n",
       "       ),\n",
       "       ('NestedContainer', [ReferencedContent(href=None, text=)]),\n",
       "       Text(\n",
       "       )])])])]"
      ]
     },
     "execution_count": 21,
     "metadata": {},
     "output_type": "execute_result"
    }
   ],
   "source": [
    "article.get_nested_content()"
   ]
  },
  {
   "cell_type": "markdown",
   "metadata": {
    "slideshow": {
     "slide_type": "subslide"
    }
   },
   "source": [
    "One of the most useful features is the possibility to retrieve a flattened version of the body contents. `article.get_flat_content()` will return a flat list of body objects, while `article.get_flat_text()` retruns a flat list of the text contained in the body."
   ]
  },
  {
   "cell_type": "code",
   "execution_count": 23,
   "metadata": {},
   "outputs": [
    {
     "data": {
      "text/plain": [
       "'Lung disorders have significant morbidity and mortality rates worldwide, both in humans and in animals. Acute respiratory distress syndrome (ARDS) is one of the leading causes of respiratory failure around the world. Although early diagnosis, timely medical care, and treatment may lead to improvement of symptoms, the signs return after a period of time. Causes of ARDS are different. It can be caused by direct or indirect damage to the lung epithelium. ARDS is described by severe hypoxemia, decreased pulmonary compliance, diffuse alveolar damage, and bilateral pulmonary infiltrates after cardiac edema [1, 2] and confirmed by a combination of clinical, physiological, and chest imaging parameters. Pulmonary inflammation with disruption of the mechanism of the alveolar–capillary barrier is an important direct cause of ARDS [3, 4]. Therapeutic approaches include mechanical ventilation, neuromuscular blocking agents, fluid management, drug and antimicrobial therapy, and prone positioning [3, 5, 6]. These therapeutic strategies have a supportive role and cannot prevent the progression of the disease [7–10]. The ultimate approach is lung transplant, but it has many problems for recipient patients such as lack of suitable donors and the use of immunosuppressive drugs over a lifetime to prevent rejection of the transplant [11]. Therefore, the recognition of new therapeutic approaches such as stromal cell therapy is essential [12]. MSCs confer immunomodulatory and anti-inflammatory effects, enhance bacterial clearance, reduce cell injury and death, and are angiogenic [5, 13]. The mechanism of the MSCs’ effects includes several pathways mediated through differentiation, proliferation, soluble intermediate release, extracellular vesicles, transfer of organelles, and direct cell-to-cell contact, which decrease activation of inflammatory cell secretion of paracrine mediators [14, 15]. Recent studies have shown positive effects of MSC-based therapy for ARDS. Induction of inflammation by the LPS of Escherichia coli O55:B5 is one of the best and simplest methods for making an experimental model of ARDS. Although the ARDS animal models cannot reflect human ARDS accurately, the rabbit model is similar and hence suitable for translating the results from pilot to clinical conditions [16]. Anatomical, physiological, genetic, and biochemical similarity to humans simulates human lung disease, and as the rabbit is easy to handle, it is considered as a suitable model for pulmonary research [17, 18]. Moreover, the rabbit serves as an excellent platform for treatment based on stromal cells [19, 20]. Thus, in this study, the rabbit was used as a model for causing ARDS, and then it was treated with stromal cells. The aim of this study was evaluation of therapeutic potential intrapulmonary administration of BM-MSCs in an experimental model of E. coli LPS-induced ARDS in the rabbit.Bone marrow (BM) samples were obtained from the humerus of rabbits in aseptic surgical conditions. After 30\\u2009min of centrifugation (400 relative centrifugal force), mononuclear cells were collected from the interphase, and eventually the cell pellets were seeded into 25-cm2 flasks (SPL Life Sciences, Pocheon, South Korea) with DMEM-high glucose, 20% FBS (Life Technologies, Carlsbad, CA, USA), and 100\\u2009U/ml penicillin/streptomycin (Biowest, Nuaillé, France) and incubated at 37\\u2009°C in humid air with 5% CO2 (Memmert, Eagle, WI, USA). When the adhesion of the cells was near confluence (more than 70%), the cells were trypsinized by trypsin-ethylenediaminetetraacetic acid of 0.25% (Life Technologies) and replated at dilutions of 1:2 under conditions of the same cultivation. The characteristics of the BM-MSCs were labeled with phycoerythrin-conjugated antibodies against CD45 (BioLegend, San Diego, CA, USA), CD90 (eBioscience, San Diego, CA, USA) and CD34 and CD29 (Abcam, Cambridge, UK), and the multilineage differentiation ability of BM-MSCs to engage in osteogenic and adipogenic differentiation was checked in vitro. This is described in more detail in the additional files.Ten healthy adult male New Zealand white rabbits were chosen, and an ARDS experimental model was induced with LPS from E. coli O55:B5 [21] (Sigma-Aldrich, St. Louis, MO, USA) at 400\\u2009μg/kg dissolved in 0.1\\u2009ml of PBS intrapulmonary the under bronchoscopic guidance. After the ARDS confirmation, rabbits were randomly distributed into two groups: (1) the control group (ARDS + PBS) and (2) the treatment group (ARDS + BM-MSC). Protocol details are available in the additional files.A total of 1010 BM-MSCs suspended in 0.1\\u2009ml of PBS [5] were autologously transplanted intrapulmonary under bronchoscopic guidance 24\\u2009h after induction of ARDS. Details of the method are provided in the additional files.During the study, the clinical signs of rabbits were calculated and recorded on the basis of clinical scores for each rabbit. Heart rate (HR), respiratory rate (RR), body temperature, twitch, abnormal breathing, nasal discharge, cough, appetite, and physical condition were measured using a clinical score. The scoring is based on clinically evaluated criteria that were individually defined and measured for each rabbit (Additional file\\xa01: Table S1).Computed tomographic (CT) scans of the lung of rabbits were taken with the SOMATOM Spirit Class II (Siemens, Erlangen, Germany), and echocardiographic examinations were performed using a Vivid 7 ultrasound system (GE Healthcare, Milwaukee, WI, USA) with a 4.4–10.0-MHz phased-array transducer (10S) during experimental modeling of ARDS before and 12, 24, 48, 72, and 168\\u2009h after transplant in each animal under the same circumstances. More details are provided in the additional files.Blood samples were collected from the central ear artery for blood gas analyses using blood gas analyzers (OPTI CCA-TS; OPTI Medical Systems, Roswell, GA, USA) and from the ear vein for hematologic parameter analysis and measurement of cytokines (tumor necrosis factor [TNF]-α, interleukin [IL]-6, and IL-10) with a commercially available enzyme-linked immunosorbent assay kit (EASTBIOPHARM, Hangzhou, China) before transplant of BM-MSCs and then for 3, 6, 12, 24, 48, 72, and 168\\u2009h after transplant. Also, bronchoalveolar lavage (BAL) samples were collected by fiberoptic bronchoscope (11262\\u2009BC; Karl Storz, Tuttlingen, Germany) before and 24, 48, 72, and 168\\u2009h after transplant. Then, the centrifuged BALs were stored at −\\u200980\\u2009°C for measurement of cytokines. Protocol details are available in the additional files.The rabbits were killed 7 days after BM-MSC transplant. First, the lungs and hearts were macroscopically examined, and then sections of them were routinely prepared, stained with H&E, and observed by use of an E600 Eclipse optical microscope (Nikon Instrument, Tokyo, Japan). More details are provided in the additional files.The results were analyzed statistically using IBM SPSS Statistics version 24 software (IBM, Armonk, NY, USA). For variables in this study, data were analyzed with the repeated measures independent samples t test, Friedman test, and Mann-Whitney U test, and p\\u2009<\\u20090.05 was considered statistically significant.The plastic adherent BM-MSCs proliferated 5–7\\u2009days after seeding and reached 80% confluence about 2 weeks later. After three passages, the adherent cells were observed by microscopy to display homogeneous spindle fibroblast-like morphology (Additional file\\xa01: Figure S1).Flow cytometric analysis demonstrated that cultured BM-MSCs expressed a particular pattern of cell surface markers of CD29 and CD90, 92% and 89%, respectively, but were uniformly negative for CD34 and CD45 (Additional file\\xa01: Figure S2), which indicates cultured adherent cells were MSCs with high purity. Thus, the pure MSCs whose immunophenotype was confirmed were used in this study.Multilineage differentiation ability of BM-MSCs to engage in osteogenic and adipogenic differentiation in vitro confirmed potential pluripotent MSCs, and their ability to form osteoblasts and adipocytes when incubated in differentiation medium was retained (Additional file\\xa01: Figure S3).Twenty-four hours after the intrapulmonary administration of LPS, inflammation and edema were stabilized in the lung. Two different evaluations proved ARDS occurrence: (1) Clinical examination showed changes in respiratory sounds during auscultation, such as crackle and wheeze, increased respiratory rate/hyperpnea (p\\u2009=\\u20090.004), heart rate/tachycardia (p\\u2009=\\u20090.008) and body temperature/hyperthermia (p\\u2009=\\u20090.011), cough, mucus hyperemia, abnormal discharge, and reduced appetite; and (2) plain chest radiograph showing significant bilateral radiologic density (air bronchogram and air alveologram patterns and lung edema and bronchial and bronchiolar septum thickness) were also confirmed (Additional file\\xa01: Figure S4). These results confirmed the experimental model of ARDS compared with the baseline 24\\u2009h after injection of LPS.According to the statistical analysis, reduction of RR in the treatment group was significant at 24 h (p\\u2009=\\u20090.002), 48 h (p\\u2009=\\u20090.036), 72 h (p\\u2009=\\u20090.037), and 168\\u2009h (p\\u2009=\\u20090.042) after BM-MSC transplant compared with time 0 (before BM-MSC transplant). HR reduction was significant at 24\\u2009h (p\\u2009=\\u20090.047) after transplant compared with time 0, but in RR and HR in the control group, it was not significantly different at various times. The RR results of the comparison between two groups showed a significant difference at 24 h (p\\u2009=\\u20090.028), 48 h (p\\u2009=\\u20090.03), 72 h (p\\u2009=\\u20090.01), and 168\\u2009h (p\\u2009=\\u20090.044) (Fig.\\xa01 and Additional file\\xa01: Table S2). The body temperature change in rabbits of the treatment group was significant at 6 h (p\\u2009=\\u20090.010), 12 h (p\\u2009=\\u20090.016), 24 h (p\\u2009=\\u20090.044), 72 h (p\\u2009=\\u20090.044), and 168\\u2009h(p\\u2009=\\u20090.043) after transplant compared with time 0. Also, the comparison between two groups showed significant differences at 12 h (p\\u2009=\\u20090.047), 24 h (p\\u2009=\\u20090.021), 48 h (p\\u2009=\\u20090.035), and 168\\u2009h (p\\u2009=\\u20090.037) (Fig.\\xa01 and Additional file\\xa01: Table S2).Changes in respiratory sounds (including crackle, wheeze, friction sounds) in the treatment group were significant compared with the control group at 24 h (p\\u2009=\\u20090.50), 48 h (p\\u2009=\\u20090.014), 72 h (p\\u2009=\\u20090.017), and 168 h (p\\u2009=\\u20090.014) after transplant. Comparison of appetite between the two groups displayed a positive and significant association at 12 h (p\\u2009=\\u20090.002), 24 h (p\\u2009=\\u20090.014), 48 h (p\\u2009=\\u20090.007), 72 h (p\\u2009=\\u20090.004), and 168\\u2009h (p\\u2009=\\u20090.004) after transplant.In both groups, after inflammation, unilateral or bilateral mucosal secretions from the nose were produced that were occasionally accompanied by color changes. But after transplant of BM-MSCs, statistical comparison showed a significant decrease in nasal discharge compared with the control group at 24 h (p\\u2009=\\u20090.011), 48 h (p\\u2009=\\u20090.007), 72 h (p\\u2009=\\u20090.007), and 168\\u2009h (p\\u2009=\\u20090.008). The regular rhythm of nasal twitching in the rabbit is a reason for the rabbit’s health and alertness. Nasal twitching was reduced at the time of inflammation. But there was a significant difference between results at 12 h (p\\u2009=\\u20090.005), 24 h (p\\u2009=\\u20090.005), 72 h (p\\u2009=\\u20090.014), and 168\\u2009h (p\\u2009=\\u20090.014) after transplant.Also, there was a significant decrease in cough count between the two groups at 12 h (p\\u2009=\\u20090.014), 24 h (p\\u2009=\\u20090.005), 48 h (p\\u2009=\\u20090.006), 72 h (p\\u2009=\\u20090.004), and 168\\u2009h (p\\u2009=\\u20090.005). Regarding the statistical analysis, comparison of mucous membranes (conjunctiva, palpebra tertia, gingiva, rectum) in both groups showed hyperemia reduced at 24 h (p\\u2009=\\u20090.031), 48 h (p\\u2009=\\u20090.011), 72 h (p\\u2009=\\u20090.005), and 168\\u2009h (p\\u2009=\\u20090.005) after BM-MSC transplant. After inflammation, rabbits showed depression and delay in response to environmental stimuli. But transplant of BM-MSCs indicated a significant improvement in consciousness at 24 h (p\\u2009=\\u20090.017), 48 h (p\\u2009=\\u20090.017), 72 h (p\\u2009=\\u20090.004), and 168\\u2009h (p\\u2009=\\u20090.005).The measured blood parameters at different times are shown in the Table\\xa01. Rabbits in the two groups had significant leukocytosis 1 day after inflammation (p\\u2009<\\u20090.005). But the BM-MSC transplant reduced the number of white blood cells. The changes were significant at 12 h (p\\u2009=\\u20090.046), 24 h (p\\u2009=\\u20090.019), 48 h (p\\u2009=\\u20090.022), 72 h (p\\u2009=\\u20090.044), and 168\\u2009h (p\\u2009=\\u20090.043) compared with time 0. Also, comparison of the two groups showed that cell transplant was effective at 6 h (p\\u2009=\\u20090.043), 12 h (p\\u2009=\\u20090.000), and 24\\u2009h (p\\u2009=\\u20090.047) (Table\\xa01).Hematological parameters  Group      −\\u200924 (h)           0\\u2009h               3 h                  6 h                 12 h                24 h                48 h                72 h               168\\u2009h            \\nWBC (/μl)                 Treatment  *8240\\u2009±\\u20091469.01    13,760\\xa0±\\xa0890.50   *13,040\\u2009±\\u20091228.00    #*12,340\\u2009±\\u20091377.67  #10,740\\u2009±\\u200989.44     #9940\\u2009±\\u200954.77       9580\\u2009±\\u2009396.23       9240\\u2009±\\u20091163.18     8700\\u2009±\\u20091437.01   \\nWBC (/μl)                 Control    *7720\\u2009±\\u2009810.55     13,160\\xa0±\\xa0522.49   *13,020\\u2009±\\u2009756.30     *12,520\\u2009±\\u2009589.06    *12,720\\u2009±\\u20091151.95   *12,620\\u2009±\\u2009630.07    *12,640\\u2009±\\u2009702.13    *12,380\\u2009±\\u2009690.65   *11,740\\u2009±\\u20091040.67\\nSEG (/μl)                 Treatment  *2582\\u2009±\\u2009937.64     8355.20\\xa0±\\xa0885.64  #*7468.80\\u2009±\\u20091351.25  #*6441.60\\u2009±\\u2009279.25  #5814\\u2009±\\u2009541         #5098\\u2009±\\u200984.81       #3828.20\\u2009±\\u2009246.90   3653.80\\u2009±\\u2009205.11   3156.40\\u2009±\\u20091657.72\\nSEG (/μl)                 Control    *2550.20\\u2009±\\u2009843.41  8467.60\\xa0±\\xa0992.59  *8512.20\\u2009±\\u2009599.36    *8101.20\\u2009±\\u2009954.74   *7826.60\\u2009±\\u20091288.89  *7739.80\\u2009±\\u20091000.22  *7654.20\\u2009±\\u20091395.41  *7299.40\\u2009±\\u2009533.47  *6676.20\\u2009±\\u2009450.88\\nBAND (/μl)                Treatment  27.4\\u2009±\\u200926.43       73\\xa0±\\xa056.74        71.6\\u2009±\\u200966.72         64\\u2009±\\u200958.99          60\\u2009±\\u200956.56          58.8\\u2009±\\u200938           #55.2\\u2009±\\u200940          #44\\u2009±\\u200936.29        #35\\u2009±\\u200922.91      \\nBAND (/μl)                Control    34.8\\u2009±\\u200932.42       73.2\\xa0±\\xa057.99      77.6\\u2009±\\u200949.88         86.2\\u2009±\\u200952.50        89.2\\u2009±\\u200957.47        102\\u2009±\\u200963.80         112.8\\u2009±\\u200981.68       131.2\\u2009±\\u2009104.88     *174.8\\u2009±\\u200951.89   \\nLYM (/μl)                 Treatment  5173.4\\u2009±\\u2009577.66    3363.4\\xa0±\\xa0900.92   3480.4\\u2009±\\u20091197.64     3758\\u2009±\\u2009664.16       3885.8\\u2009±\\u2009606.60     4120.6\\u2009±\\u2009743.79     4255.2\\u2009±\\u2009891.68     4509\\u2009±\\u2009994.02      4906.8\\u2009±\\u20091015.92 \\nLYM (/μl)                 Control    4852.4\\u2009±\\u20091214.24   3175.6\\xa0±\\xa0882.11   3268\\u2009±\\u20091603.72       3376\\u2009±\\u2009813.13       3393.6\\u2009±\\u20091145.60    3471.8\\u2009±\\u20091196.61    3596.2\\u2009±\\u20091301.70    3678.4\\u2009±\\u20091338.22   3795.8\\u2009±\\u2009815.30  \\nMON (/μl)                 Treatment  86\\u2009±\\u20095.47          76\\xa0±\\xa060.76        80\\u2009±\\u2009109.54          78\\u2009±\\u2009174.41         76\\u2009±\\u200966.55          80\\u2009±\\u2009123.28         78\\u2009±\\u2009126.17         78\\u2009±\\u200962.60         #80\\u2009±\\u200977.78      \\nMON (/μl)                 Control    76\\u2009±\\u20094.18          68\\xa0±\\xa08.36         72\\u2009±\\u200997.31           78\\u2009±\\u200983.18          84\\u2009±\\u200985.02          90\\u2009±\\u2009108.39         96\\u2009±\\u2009108.30         100\\u2009±\\u200970.71        *130\\u2009±\\u200912.24     \\nRBC (×106/μl)             Treatment  6.11\\u2009±\\u20090.21        6.23\\xa0±\\xa00.90       6.28\\u2009±\\u20090.78          6.28\\u2009±\\u20090.67         6.24\\u2009±\\u20091            6.2\\u2009±\\u20090.92          #6.18\\u2009±\\u20090.96        6.13\\u2009±\\u20090.98        6.08\\u2009±\\u20090.99      \\nRBC (×106/μl)             Control    6.07\\u2009±\\u20090.09        6.21\\xa0±\\xa01.11       6.27\\u2009±\\u20090.91          6.29\\u2009±\\u20091.09         6.32\\u2009±\\u20090.88         6.32\\u2009±\\u20090.86         *6.35\\u2009±\\u20090.09        6.31\\u2009±\\u20091.20        6.24\\u2009±\\u20091.04      \\nHgb (g/dl)                Treatment  12.12\\u2009±\\u20090.44       12.44\\xa0±\\xa00.56      12.56\\u2009±\\u20091.56         12.48\\u2009±\\u20091.16        12.36\\u2009±\\u20090.51        12.34\\u2009±\\u20091.32        #12.26\\u2009±\\u20090.94       12.2\\u2009±\\u20091.01        12\\u2009±\\u20090.57        \\nHgb (g/dl)                Control    12\\u2009±\\u20090.18          12.22\\xa0±\\xa01.46      12.52\\u2009±\\u20091.86         12.72\\u2009±\\u20091.97        12.88\\u2009±\\u20091.6         12.9\\u2009±\\u20091.50         *13.04\\u2009±\\u20090.11       12.86\\u2009±\\u20091.10       12.62\\u2009±\\u20090.52     \\nHct (%)                   Treatment  39.16\\u2009±\\u20092.24       40.66\\xa0±\\xa02.66      40.58\\u2009±\\u20093.20         40.46\\u2009±\\u20092.36        40.18\\u2009±\\u20092.43        40.1\\u2009±\\u20092.87         39.54\\u2009±\\u20092.27        39.3\\u2009±\\u20092.74        39.46\\u2009±\\u20092.08     \\nHct (%)                   Control    38.9\\u2009±\\u20092.54        40.4\\xa0±\\xa02.67       40.68\\u2009±\\u20093.29         40.9\\u2009±\\u20094.04         40.94\\u2009±\\u20094.18        41.02\\u2009±\\u20093.54        40.7\\u2009±\\u20093.45         40.52\\u2009±\\u20093.07       40.2\\u2009±\\u20093.29      \\nPlt (×103/μl)             Treatment  371.2\\u2009±\\u200987.08      353\\xa0±\\xa074.24       339\\u2009±\\u200980.56          347.6\\u2009±\\u200964.43       345.6\\u2009±\\u200958.65       361.8\\u2009±\\u200974.88       380.4\\u2009±\\u200975.92       374\\u2009±\\u200966.60        368.4\\u2009±\\u200961.05    \\nPlt (×103/μl)             Control    339\\u2009±\\u2009103.84       330.2\\xa0±\\xa0111.21    322.4\\u2009±\\u200978.15        322\\u2009±\\u2009104.41        324\\u2009±\\u200942.95         316.8\\u2009±\\u200970.25       337.2\\u2009±\\u200964.13       322.8\\u2009±\\u200974.38      332.4\\u2009±\\u200982.26    The transplant of BM-MSCs reduced the heterophil count following ARDS. Changes were significant at 12 h (p\\u2009=\\u20090.048), 24 h (p\\u2009=\\u20090.049), 48 h (p\\u2009=\\u20090.009), 72 h (p\\u2009=\\u20090.007), and 168\\u2009h (p\\u2009=\\u20090.024) against inflammation time (time 0). The comparison between two groups showed significant differences at 3 h (p\\u2009=\\u20090.020), 6 h (p\\u2009=\\u20090.042), 12 h (p\\u2009=\\u20090.030), 24 h (p\\u2009=\\u20090.001), and 48\\u2009h (p\\u2009=\\u20090.046) (Additional file\\xa01: Figure S5).Comparison of heterophil band numbers between the two groups showed that cell transplant was affected at 48 h (p\\u2009=\\u20090.046), 72 h (p\\u2009=\\u20090.021), and 168\\u2009h (p\\u2009=\\u20090.038).Statistical analysis showed that there was no significant difference in the lymphocyte count, monocytes, platelets, hematocrit in or between the treatment and control groups during the study. There was a significant difference in the number of red blood cells (p\\u2009=\\u20090.007) and concentration of hemoglobin (p\\u2009=\\u20090.027) in the treatment group compared with the control group only at 48\\u2009h.In BAL, the total nucleated cell count included ciliated epithelial cells, squamous epithelial cells, alveolar macrophages, leukocytes, heterophils, eosinophils, and plasma cells. Typically, total leukocyte cells in treatment group included macrophages and lymphocytes, and in the control group, they included macrophages and heterophils (Fig.\\xa02).The results demonstrated that the BAL cell count was significantly increased in inflammatory conditions, but transplant of stromal cells caused the inflammatory cells to balance so that, in the treatment group, decrease of the total cell count was significant at all times except time 0 (p\\u2009<\\u20090.05), and there was a significant reduction in the total cell count compared with the control group at 24 h (p\\u2009=\\u20090.045), 48 h (p\\u2009=\\u20090.46), and 72\\u2009h (p\\u2009=\\u20090.048). Also, BM-MSCs were able to significantly reduce the number of alveolar heterotrophs, as well as the number of macrophages in BAL, so that decrease of heterotrophs was significant at 12 h (p\\u2009=\\u20090.03), 24 h (p\\u2009=\\u20090.01), 48 h, 72 h, and 168\\u2009h (p\\u2009=\\u20090.000) against inflammation time and at 48 h (p\\u2009=\\u20090.049), 72 h (p\\u2009=\\u20090.031), and 168\\u2009h (p\\u2009=\\u20090.042) compared with the control group. Also, reduction in macrophages was significant at 72 h (p\\u2009=\\u20090.033) and 168\\u2009h (p\\u2009=\\u20090.005) compared with time 0. No significant change in the number of lymphocytes was observed in or between the two groups (Fig.\\xa03) (Additional file\\xa01: Table S3).The partial pressure of oxygen (PO2) and O2 saturation (SatO2) levels were decreased, and partial pressure of carbon dioxide (PCO2) levels were increased, in ARDS (time 0) compared with baseline (−\\u200924\\u2009h), significantly. Following BM-MSC transplant, PO2 increment was significant at 12 h (p\\u2009=\\u20090.043), 24 h (p\\u2009=\\u20090.005), and 48\\u2009h (p\\u2009=\\u20090.005), and comparison between the two groups demonstrated that severe hypoxemia was significantly recovered after transplant at 12 h (p\\u2009=\\u20090.027), 24 h (p\\u2009=\\u20090.042), and 48\\u2009h (p\\u2009=\\u20090.040).Also, following transplant of BM-MSCs, changes of SatO2 were significant at 12 h (p\\u2009=\\u20090.038), 24 h (p\\u2009=\\u20090.030), 48 h (p\\u2009=\\u20090.009), 72 h (p\\u2009=\\u20090.007), and 168\\u2009h (p\\u2009=\\u20090.024) compared with time 0, and comparison of the two groups showed that cell transplant was effective at 3 h (p\\u2009=\\u20090.020), 6 h (p\\u2009=\\u20090.042), 12 h (p\\u2009=\\u20090.030), 24 h (p\\u2009=\\u20090.001), and 48\\u2009h (p\\u2009=\\u20090.046) (Additional file\\xa01: Table S4).Additionally, PCO2 was significantly decreased in the treatment group at 24 h (p\\u2009=\\u20090.036), 48 h (p\\u2009=\\u20090.034), and 72\\u2009h (p\\u2009=\\u20090.01) after transplant, and comparison between the two groups displayed a significant decrease of PCO2 at 48 h and 72\\u2009h (p\\u2009=\\u20090.016).Also, statistical analysis for pH value indicated significant differences between the two groups at 24\\u2009h (p\\u2009=\\u20090.019). Respiratory acidosis occurred in both groups at 3 and 6\\u2009h via pH decrease and increase in PCO2. Analysis of bicarbonate, base excess, and anion gap data showed no significant difference in and between the two groups (Fig.\\xa04).The results showed nonsignificant reduction in the value of Na+, K+, and Cl− in and between the treatment and control groups at the different times and alone. There was a significant difference in the Cl− value in the treatment group compared with the control group at 24\\u2009h (p\\u2009=\\u20090.029) (Additional file\\xa01: Table S5).Duplicated measurements of each variable were performed, and the average of the data was obtained. The measured cytokine levels in plasma and BAL samples at different times are shown in Additional file\\xa01: Table S6. BM-MSC transplant decreased proinflammatory cytokines (TNF-α and IL-6) and increased anticytokine inflammation (IL-10) during endotoxin injury in plasma and BAL.After transplant of MSCs, the concentration of the TNF-α in BAL decreased at 12 h (p\\u2009=\\u20090.035), 24 h (p\\u2009=\\u20090.011), 48 h (p\\u2009=\\u20090.007), and 168\\u2009h (p\\u2009=\\u20090.014) compared with time 0, significantly, and comparison of the two groups showed that cell transplant was affected at times of 12 h (p\\u2009=\\u20090.031), 24 h (p\\u2009=\\u20090.018), 48 h (p\\u2009=\\u20090.009), and 168\\u2009h (p\\u2009=\\u20090.014). Also, the levels of TNF-α in plasma were recovered with MSCs at 24 h (p\\u2009=\\u20090.040), 48 h (p\\u2009=\\u20090.006), 72 h (p\\u2009=\\u20090.002), and 168\\u2009h (p\\u2009=\\u20090.003) against inflammation time (0\\u2009h), significantly, and comparison of the two groups showed significant difference at 72 h (p\\u2009=\\u20090.008) and 168 h (p\\u2009=\\u20090.025).The IL-6 concentration was downregulated by MSCs, so that the levels of IL-6 in the BAL were significantly lower at times of 12 h (p\\u2009=\\u20090.047), 24 h (p\\u2009=\\u20090.011), 48 h (p\\u2009=\\u20090.001), and 168\\u2009h (p\\u2009=\\u20090.041) than time 0. Comparison of the two groups indicated significant differences at 12 h (p\\u2009=\\u20090.032), 24 h (p\\u2009=\\u20090.018), 72 h (p\\u2009=\\u20090.041), and 168\\u2009h (p\\u2009=\\u20090.008). Also, the concentration of IL-6 was significant in plasma 48 h (p\\u2009=\\u20090.048) and 168\\u2009h (p\\u2009=\\u20090.001) after MSC transplant against the inflammation time (0\\u2009h), and comparison of the two groups showed that cell therapy was affected at 24 h (p\\u2009=\\u20090.001), 48 h (p\\u2009=\\u20090.005), and 168\\u2009h (p\\u2009=\\u20090.012). These results demonstrated the immunomodulatory potential of these BM-MSCs.In contrast, when MSCs were administered, IL-10 was significantly increased in the BAL and plasma. Concentration of IL-10 in BAL was significant at 12 h (p\\u2009=\\u20090.047), 24 h (p\\u2009=\\u20090.011), 48 h (p\\u2009=\\u20090.001), and 168\\u2009h (p\\u2009=\\u20090.041) compared with time 0, and comparison of the two groups showed significant differences at 12 h (p\\u2009=\\u20090.032), 24 h (p\\u2009=\\u20090.018), 72 h (p\\u2009=\\u20090.041), and 168\\u2009h (p\\u2009=\\u20090.008) (Fig.\\xa05). Also, increase of IL-10 concentration in plasma was significant at 48 h (p\\u2009=\\u20090.047), 72 h (p\\u2009=\\u20090.044), and 168\\u2009h (p\\u2009=\\u20090.022) against time 0. MSCs also increased plasma IL-10 concentrations compared with control group at 48 h (p\\u2009=\\u20090.043) and 72\\u2009h (p\\u2009=\\u20090.029), significantly (Fig.\\xa05), so that BMSCs reduced lung injury and inflammation via significant immunomodulatory properties and attenuated the severity of ARDS.Hounsfield units and volumes of the aerated and nonaerated areas of the right and left lungs were measured on CT scans. Quantitative estimation (the Hounsfield unit measurement) was done for different adjacent CT sections with the Leonardo workstation and software tools (Siemens). Lung parenchymal margins were manually demarcated, and then average Hounsfield units were obtained for each section. Also, the 3D pattern was observed for a better evaluation of the lung parenchyma (data not shown). These measurements demonstrated that Hounsfield units had increased 1 day after the experimental inflammation (before stromal cells therapy), which represents replacement of alveolar air with mucous and inflammatory cells (Fig.\\xa06). A significant decrease in the Hounsfield units was seen at 48 h (p\\u2009=\\u20090.032), 72 h (p\\u2009=\\u20090.036), and 168\\u2009h (p\\u2009=\\u20090.025) post-transplant, which indicates an increase in aerated volume of the lung in the treatment group. Also, variation volumes were compared and showed that total lung volume (aerated + nonaerated + tissue + edematous fluids) in both groups increased after ARDS, but transplant of BM-MSCs had decreased the process at 72 h (p\\u2009=\\u20090.047) and 168\\u2009h (p\\u2009=\\u20090.027). On CT scans, most nonaerated areas were observed in lower lobes in the caudoventral area (Fig.\\xa07 and Additional file\\xa01: Table S7).The images and amounts of Doppler and M-mode echocardiographic parameters are shown in Additional file\\xa01: Figure S6. The amounts of BAL and plasma cytokines of rabbits are shown in Fig.\\xa06 and Table\\xa02, respectively. Echocardiographic data showed no significant difference in the treatment group (BM-MSC recipients), but comparison of the two groups revealed that percentage ejection fraction at 72 h (p\\u2009=\\u20090.042) and 168\\u2009h (p\\u2009=\\u20090.038), percentage fractional shortening at 72 h (p\\u2009=\\u20090.049) and 168\\u2009h (p\\u2009=\\u20090.044), interventricular septal end diastole at 48 h (p\\u2009=\\u20090.014), 72 h (p\\u2009=\\u20090.038), and 168\\u2009h (p\\u2009=\\u20090.042), interventricular septal end systole at 24 h (p\\u2009=\\u20090.005), 48 h (p\\u2009=\\u20090.009), and 72\\u2009h (p\\u2009=\\u20090.010), left ventricular internal dimension systole at 72 h (p\\u2009=\\u20090.048) and 168\\u2009h (p\\u2009=\\u20090.022), aortic root diameter at 72 h (p\\u2009=\\u20090.027) and 168\\u2009h (p\\u2009=\\u20090.042), left atrial diameter at 168\\u2009h (p\\u2009=\\u20090.048), left ventricular outflow tract maximum velocity at 168\\u2009h (p\\u2009=\\u20090.041) and right ventricular outflow tract maximum velocity at 168\\u2009h (p\\u2009=\\u20090.039) had significant differences.Time (h)       \\nParameters     \\nEDV (mm)       \\nEDV (mm)       \\nEF (%)         \\nEF (%)         \\nESV (mm)       \\nESV (mm)       \\nFS (%)         \\nFS (%)         \\nIVSd (mm)      \\nIVSd (mm)      \\nIVSs (mm)      \\nIVSs (mm)      \\nLVIDd (mm)     \\nLVIDd (mm)     \\nLVIDs (mm)     \\nLVIDs (mm)     \\nLVPWd          \\nLVPWd          \\nLVPWs          \\nLVPWs          \\nSV (ml)        \\nSV (ml)        \\nAO (mm)        \\nAO (mm)        \\nLA (mm)        \\nLA (mm)        \\nLA/AO          \\nLA/AO          \\nLVOTVmax (cm/s)\\nLVOTVmax (cm/s)\\nRVOTVmax (cm/s)\\nRVOTVmax (cm/s)The macroscopic examination of the lungs showed hyperemia, hemorrhage, emphysema, edema, and hepatization in the control group (Fig.\\xa08a), but brief hyperemia and edema were observed in the treatment group (Fig.\\xa08f). Sections of the lung demonstrated different histopathological patterns between the control and treatment groups. Microscopically, lungs showed more severe damage in the control group than the treatment group as hemorrhage in parenchyma and alveoli, moderate to severe vascular hyperemia, moderate to severe interstitial pneumonia, severe alveolar injuries and edema, neutrophilic margination in the capillary vessels, abundant presence of inflammatory cells, epithelial cells and other cell debris (cellularity) in interstitial spaces and alveoli, and thickness of the alveolar septum (Fig.\\xa08b–d). But treatment with BM-MSCs reduced the infiltration rate of inflammatory cells in the alveolar septum, hyperemia, hemorrhage, and edema, and lung structure was approximately normal and only slightly increased the thickness of the alveolar septum. Also, in most sections of the treatment group, injury in the bronchus, bronchioles, and vessels was not observed (Fig.\\xa08g–i).In macroscopic observations of the heart, no lesions were found in both treatment and control groups, but in the microscopic examination of the heart sections in the control group, necroses were observed in a small number of myofibers (Fig.\\xa08e), whereas in treatment group, no injury was observed (Fig.\\xa08k).BM-MSCs are an ideal choice for cell therapy because there are fewer complications for cell isolation and also BM autologous cells that are capable of eliminating immune response and transplant rejection [22]. MSCs have positive effects in the repair of ARDS [23].Although fibroblasts play a role in normal and pathological repair, and an accumulation of fibrocytes, fibroblasts, and myofibroblasts in the alveolar compartment, leading to excessive deposition components of the extracellular matrix but also according to prior findings the effect of them remains controversial [23–25] and unknown, so that reduction of its deposition or enhancement of its degradation could be treatment strategies. [24]The results of this study showed that the BM-MSCs significantly decreased the severity of clinical symptoms induced by LPS, the number of inflammatory cells in blood and BAL, and balanced the values of arterial blood gases and cytokines. On the CT scans, a significant decrease in the Hounsfield units was observed, which is indicative of an increase in aerated volume of the lung in the treatment group. The echocardiographic parameters did not reveal a significant difference in the treatment group, and compared with the two groups together it was significant. Also, the histopathology demonstrated reduction in the infiltration of inflammatory cells and pulmonary hemorrhage and edema in the recipients of BM-MSCs.In natural conditions, cells from bone marrow migrated to chemotactic gradients, but the amount of engraftment was low, and use of exogenous stromal cells can be helpful to this mechanism. The exact mechanisms of MSCs’ actions are not precise [25], and sometimes the results of stromal cell research using animal models are incompatible with each other [23]. However, three mechanisms have been defined for MSCs’ actions consisting of differentiation, cell–cell contact and paracrine function via the soluble factors [25, 26]. Researchers are likely to focus on manipulation of inflammatory pathways and optimizing lung repair while preventing ARDS progression [6]; whereas management of inflammatory pathways forbids the development of ARDS, some researchers believe in the immunomodulatory effects of MSCs [6]. Most trials have used local delivery of autologous BM-MSCs with the aim increasing the concentration of growth factors and cytokines in damaged tissue to improve possible engraftment and repair [23]. For the first time, Gupta et al. reported effects of the local delivery of MSCs in ARDS that are consistent with this study [26].The anti-inflammatory role of MSCs may vary in humans and animals, but the useful effects of MSCs have been shown in several animal models [27] and indicate the significant role of identification feature of MSCs [22]. LPS of gram-negative bacterial wall binds to the CD14/TLR4/MD2 receptor complex, activating pathway and transcription of some inflammation- and apoptosis-related genes and activating innate immune response [18, 25] that produces the acute phase of ARDS. Therefore, the LPS-induced animal models could be suitable for cell therapy. In prior findings, only a few animal models have been used to investigate the mechanism of MSC therapy in ARDS, most of which used rat and mouse [25, 28–31]. Although animal models cannot show all complications of human ARDS, a rabbit can display important physiological and pathological features of human ARDS and can be useful for novel therapeutic strategies [18]. As previously described in this study, we used LPS from E. coli strain O55:B5to induce an experimental model of ARDS in the rabbit.Our results displayed inflammatory cells downregulated by BM-MSCs, which can improve the function of the alveolar-capillary membrane, in agreement with the results of Xiang et al. on improving pulmonary microvascular permeability with MSCs [32]. The reduction of heterophils, macrophages, and the number of total cells were observed in the treated group, unlike the results of other research [26]. The complete blood count findings indicated that despite intrapulmonary administration of LPS and MSCs, there is a relationship between the numbers of intravascular and intra-alveolar heterophils and lymphocytes. Direct administration of LPS effects on gas exchange process and induces acute hypoxemia [33]. The results of studies suggest that MSC transplant can improve hypoxemia via reducing alveolar-arterial oxygen gradient [29, 30] which is in agreement with the present study. But the research results of Moodley et al., (2016) conflicted with this study [27]. The difference in injury model and type of cell therapy may be the cause of the variable results. There are not any studies that have reported clinical signs, including HR, RR, and RT, after stromal cell therapy; this study is the first report in which clinical signs were evaluated using a previously described scoring system.The protective effects of BM-MSCs on ARDS are a result of the immune regulation function and inhibitory T-cell function [31]. Monocytes and macrophages can release inflammatory factors such as TNF-α that play a role in phagocytes of the necrotic and apoptotic cells [34]. Because MSC soluble factors may be the therapeutic basis of MSCs, this result is confirmed by recent reports that demonstrated immunomodulatory properties of MSCs [26]. MSCs’ effects are explained by a shift from a proinflammatory to an anti-inflammatory response [26]. Reduced cytokines of proinflammatory (TNF-α and IL-6) and increased cytokines of anti-inflammatory (IL-10) in BAL and plasma samples play principal roles in the treatment mechanism of ARDS [26, 29, 30]. In the present study, the TNF-α concentration decreased following MSC therapy, which is similar to many studies [31]. The IL-10 level increased after the use of MSCs and inhibited antigen-presenting cell function and inflammation and enhanced tolerance, but our findings are not similar to some other studies [26, 30]. Beneficial effects of MSCs may be mediated by a decrease of TNF that indicated the attenuation of the inflammation [26]. Prostaglandin E2 (PGE2) has a critical role in IL-10 and IL-6 secretion from macrophages [31]. It is possible that TNF- and IL-6-dependent PGE2 production plays a major role as a clinical sign and in particular hyperthermia in the acute phase of inflammation [34]. TNF has roles in local inflammation complications such as leukocyte stimulation (neutrophils and macrophage) in BAL and lung endothelium that was shown in the pathology. Also, TNF has roles in systemic complications such as hyperthermia, C-reactive protein, leukocytosis, necrosis, and apoptosis, decreasing appetite, and even decreases of cardiac output and vascular permeability and increases in edema and hypotension.In this study, CT scans and echocardiography were used to follow improvement and management of ARDS during BM-MSC therapy. One particular feature of ARDS is lack of aerated lung volume caused by inflammation and edema, and total lung volume reduction (air + parenchyma) mostly in the lower lobes can explain hypoxemia, low respiratory compliance, and alveolar dead space and increased pulmonary vascular permeability [35, 36]. CT scanning is a common clinical diagnostic tool, a specific, repeatable, and noninvasive technique for diagnosis that until now has rarely been used as a research tool, and there is not any valid data of the distribution region of the existence or absence of air in alveolus during ARDS and especially after cell-based therapy. Our findings based on CT scanning are matched with the diagnosis of pathology and all the other outcomes. Therefore, it can be said that CT scanning is a suitable method for evaluation of the stromal cell therapy effects in pulmonary inflammation and edema, but further studies are needed in this field. Interactions between lung, right ventricle, and pulmonary circulation are critical in ARDS. Serial echocardiographic measurements have a potential clinical diagnosis in the early stage ARDS as a prognostic and therapeutic method. We showed that ARDS causes changes in echocardiographic parameters and reduces cardiac function, whereas transplant of BM-MSCs was able to prevent these changes.We demonstrated that MSCs could attenuate the inflammation by reducing pathological lung changes [31], but in some research, no significant data were reported regarding pathology. This variation may be caused by short study duration so that further studies are needed. Our histopathological examination, like other findings from imaging and all of the laboratory results, showed that BM-MSC transplant could improve ARDS.Many studies on cell-based therapies in ARDS have been done, but most of them focused on molecular and signal tests. Although these studies could clear pathways, they are still far from tissue function. In this study, we tried to explain the MSCs’ effects on organ function. We investigated effects of BM-MSCs in an experimental model of ARDS and confirmed that MSCs decrease inflammation and improve alveolar fluid clearance and have a protective role in ARDS. Improvement in clinical signs, the decrease of inflammatory cells in blood and BAL, the balance in blood gases and cytokines, the decrease in the Hounsfield units, no changes in echocardiographic parameters. and the reduction of pulmonary hemorrhage and edema in pathology were observed. Despite these results, subsequent studies are required to confirm the decrease in inflammation, and physiological parameters over the long term and many experiments should be performed until stromal cell therapy is validated as a method of routine clinical treatment.\\n\\n'"
      ]
     },
     "execution_count": 23,
     "metadata": {},
     "output_type": "execute_result"
    }
   ],
   "source": [
    "''.join(article.get_flat_text())"
   ]
  },
  {
   "cell_type": "markdown",
   "metadata": {
    "slideshow": {
     "slide_type": "subslide"
    }
   },
   "source": [
    "You can get content from one single section"
   ]
  },
  {
   "cell_type": "code",
   "execution_count": 25,
   "metadata": {},
   "outputs": [
    {
     "data": {
      "text/plain": [
       "'Many studies on cell-based therapies in ARDS have been done, but most of them focused on molecular and signal tests. Although these studies could clear pathways, they are still far from tissue function. In this study, we tried to explain the MSCs’ effects on organ function. We investigated effects of BM-MSCs in an experimental model of ARDS and confirmed that MSCs decrease inflammation and improve alveolar fluid clearance and have a protective role in ARDS. Improvement in clinical signs, the decrease of inflammatory cells in blood and BAL, the balance in blood gases and cytokines, the decrease in the Hounsfield units, no changes in echocardiographic parameters. and the reduction of pulmonary hemorrhage and edema in pathology were observed. Despite these results, subsequent studies are required to confirm the decrease in inflammation, and physiological parameters over the long term and many experiments should be performed until stromal cell therapy is validated as a method of routine clinical treatment.'"
      ]
     },
     "execution_count": 25,
     "metadata": {},
     "output_type": "execute_result"
    }
   ],
   "source": [
    "''.join(article.get_flat_text(sections=['Conclusions']))"
   ]
  },
  {
   "cell_type": "markdown",
   "metadata": {
    "slideshow": {
     "slide_type": "subslide"
    }
   },
   "source": [
    "or from a set of sections"
   ]
  },
  {
   "cell_type": "code",
   "execution_count": 28,
   "metadata": {},
   "outputs": [
    {
     "name": "stdout",
     "output_type": "stream",
     "text": [
      "The plastic adherent BM-MSCs proliferated 5–7 days after seeding and reached 80% confluence about 2 weeks later. After three passages, the adherent cells were observed by microscopy to display homogeneous spindle fibroblast-like morphology (Additional file 1: Figure S1).Flow cytometric analysis demonstrated that cultured BM-MSCs expressed a particular pattern of cell surface markers of CD29 and CD90, 92% and 89%, respectively, but were uniformly negative for CD34 and CD45 (Additional file 1: Figure S2), which indicates cultured adherent cells were MSCs with high purity. Thus, the pure MSCs whose immunophenotype was confirmed were used in this study.Multilineage differentiation ability of BM-MSCs to engage in osteogenic and adipogenic differentiation in vitro confirmed potential pluripotent MSCs, and their ability to form osteoblasts and adipocytes when incubated in differentiation medium was retained (Additional file 1: Figure S3).Twenty-four hours after the intrapulmonary administration of LPS, inflammation and edema were stabilized in the lung. Two different evaluations proved ARDS occurrence: (1) Clinical examination showed changes in respiratory sounds during auscultation, such as crackle and wheeze, increased respiratory rate/hyperpnea (p = 0.004), heart rate/tachycardia (p = 0.008) and body temperature/hyperthermia (p = 0.011), cough, mucus hyperemia, abnormal discharge, and reduced appetite; and (2) plain chest radiograph showing significant bilateral radiologic density (air bronchogram and air alveologram patterns and lung edema and bronchial and bronchiolar septum thickness) were also confirmed (Additional file 1: Figure S4). These results confirmed the experimental model of ARDS compared with the baseline 24 h after injection of LPS.According to the statistical analysis, reduction of RR in the treatment group was significant at 24 h (p = 0.002), 48 h (p = 0.036), 72 h (p = 0.037), and 168 h (p = 0.042) after BM-MSC transplant compared with time 0 (before BM-MSC transplant). HR reduction was significant at 24 h (p = 0.047) after transplant compared with time 0, but in RR and HR in the control group, it was not significantly different at various times. The RR results of the comparison between two groups showed a significant difference at 24 h (p = 0.028), 48 h (p = 0.03), 72 h (p = 0.01), and 168 h (p = 0.044) (Fig. 1 and Additional file 1: Table S2). The body temperature change in rabbits of the treatment group was significant at 6 h (p = 0.010), 12 h (p = 0.016), 24 h (p = 0.044), 72 h (p = 0.044), and 168 h(p = 0.043) after transplant compared with time 0. Also, the comparison between two groups showed significant differences at 12 h (p = 0.047), 24 h (p = 0.021), 48 h (p = 0.035), and 168 h (p = 0.037) (Fig. 1 and Additional file 1: Table S2).Changes in respiratory sounds (including crackle, wheeze, friction sounds) in the treatment group were significant compared with the control group at 24 h (p = 0.50), 48 h (p = 0.014), 72 h (p = 0.017), and 168 h (p = 0.014) after transplant. Comparison of appetite between the two groups displayed a positive and significant association at 12 h (p = 0.002), 24 h (p = 0.014), 48 h (p = 0.007), 72 h (p = 0.004), and 168 h (p = 0.004) after transplant.In both groups, after inflammation, unilateral or bilateral mucosal secretions from the nose were produced that were occasionally accompanied by color changes. But after transplant of BM-MSCs, statistical comparison showed a significant decrease in nasal discharge compared with the control group at 24 h (p = 0.011), 48 h (p = 0.007), 72 h (p = 0.007), and 168 h (p = 0.008). The regular rhythm of nasal twitching in the rabbit is a reason for the rabbit’s health and alertness. Nasal twitching was reduced at the time of inflammation. But there was a significant difference between results at 12 h (p = 0.005), 24 h (p = 0.005), 72 h (p = 0.014), and 168 h (p = 0.014) after transplant.Also, there was a significant decrease in cough count between the two groups at 12 h (p = 0.014), 24 h (p = 0.005), 48 h (p = 0.006), 72 h (p = 0.004), and 168 h (p = 0.005). Regarding the statistical analysis, comparison of mucous membranes (conjunctiva, palpebra tertia, gingiva, rectum) in both groups showed hyperemia reduced at 24 h (p = 0.031), 48 h (p = 0.011), 72 h (p = 0.005), and 168 h (p = 0.005) after BM-MSC transplant. After inflammation, rabbits showed depression and delay in response to environmental stimuli. But transplant of BM-MSCs indicated a significant improvement in consciousness at 24 h (p = 0.017), 48 h (p = 0.017), 72 h (p = 0.004), and 168 h (p = 0.005).The measured blood parameters at different times are shown in the Table 1. Rabbits in the two groups had significant leukocytosis 1 day after inflammation (p < 0.005). But the BM-MSC transplant reduced the number of white blood cells. The changes were significant at 12 h (p = 0.046), 24 h (p = 0.019), 48 h (p = 0.022), 72 h (p = 0.044), and 168 h (p = 0.043) compared with time 0. Also, comparison of the two groups showed that cell transplant was effective at 6 h (p = 0.043), 12 h (p = 0.000), and 24 h (p = 0.047) (Table 1).Hematological parameters  Group      − 24 (h)           0 h               3 h                  6 h                 12 h                24 h                48 h                72 h               168 h            \n",
      "WBC (/μl)                 Treatment  *8240 ± 1469.01    13,760 ± 890.50   *13,040 ± 1228.00    #*12,340 ± 1377.67  #10,740 ± 89.44     #9940 ± 54.77       9580 ± 396.23       9240 ± 1163.18     8700 ± 1437.01   \n",
      "WBC (/μl)                 Control    *7720 ± 810.55     13,160 ± 522.49   *13,020 ± 756.30     *12,520 ± 589.06    *12,720 ± 1151.95   *12,620 ± 630.07    *12,640 ± 702.13    *12,380 ± 690.65   *11,740 ± 1040.67\n",
      "SEG (/μl)                 Treatment  *2582 ± 937.64     8355.20 ± 885.64  #*7468.80 ± 1351.25  #*6441.60 ± 279.25  #5814 ± 541         #5098 ± 84.81       #3828.20 ± 246.90   3653.80 ± 205.11   3156.40 ± 1657.72\n",
      "SEG (/μl)                 Control    *2550.20 ± 843.41  8467.60 ± 992.59  *8512.20 ± 599.36    *8101.20 ± 954.74   *7826.60 ± 1288.89  *7739.80 ± 1000.22  *7654.20 ± 1395.41  *7299.40 ± 533.47  *6676.20 ± 450.88\n",
      "BAND (/μl)                Treatment  27.4 ± 26.43       73 ± 56.74        71.6 ± 66.72         64 ± 58.99          60 ± 56.56          58.8 ± 38           #55.2 ± 40          #44 ± 36.29        #35 ± 22.91      \n",
      "BAND (/μl)                Control    34.8 ± 32.42       73.2 ± 57.99      77.6 ± 49.88         86.2 ± 52.50        89.2 ± 57.47        102 ± 63.80         112.8 ± 81.68       131.2 ± 104.88     *174.8 ± 51.89   \n",
      "LYM (/μl)                 Treatment  5173.4 ± 577.66    3363.4 ± 900.92   3480.4 ± 1197.64     3758 ± 664.16       3885.8 ± 606.60     4120.6 ± 743.79     4255.2 ± 891.68     4509 ± 994.02      4906.8 ± 1015.92 \n",
      "LYM (/μl)                 Control    4852.4 ± 1214.24   3175.6 ± 882.11   3268 ± 1603.72       3376 ± 813.13       3393.6 ± 1145.60    3471.8 ± 1196.61    3596.2 ± 1301.70    3678.4 ± 1338.22   3795.8 ± 815.30  \n",
      "MON (/μl)                 Treatment  86 ± 5.47          76 ± 60.76        80 ± 109.54          78 ± 174.41         76 ± 66.55          80 ± 123.28         78 ± 126.17         78 ± 62.60         #80 ± 77.78      \n",
      "MON (/μl)                 Control    76 ± 4.18          68 ± 8.36         72 ± 97.31           78 ± 83.18          84 ± 85.02          90 ± 108.39         96 ± 108.30         100 ± 70.71        *130 ± 12.24     \n",
      "RBC (×106/μl)             Treatment  6.11 ± 0.21        6.23 ± 0.90       6.28 ± 0.78          6.28 ± 0.67         6.24 ± 1            6.2 ± 0.92          #6.18 ± 0.96        6.13 ± 0.98        6.08 ± 0.99      \n",
      "RBC (×106/μl)             Control    6.07 ± 0.09        6.21 ± 1.11       6.27 ± 0.91          6.29 ± 1.09         6.32 ± 0.88         6.32 ± 0.86         *6.35 ± 0.09        6.31 ± 1.20        6.24 ± 1.04      \n",
      "Hgb (g/dl)                Treatment  12.12 ± 0.44       12.44 ± 0.56      12.56 ± 1.56         12.48 ± 1.16        12.36 ± 0.51        12.34 ± 1.32        #12.26 ± 0.94       12.2 ± 1.01        12 ± 0.57        \n",
      "Hgb (g/dl)                Control    12 ± 0.18          12.22 ± 1.46      12.52 ± 1.86         12.72 ± 1.97        12.88 ± 1.6         12.9 ± 1.50         *13.04 ± 0.11       12.86 ± 1.10       12.62 ± 0.52     \n",
      "Hct (%)                   Treatment  39.16 ± 2.24       40.66 ± 2.66      40.58 ± 3.20         40.46 ± 2.36        40.18 ± 2.43        40.1 ± 2.87         39.54 ± 2.27        39.3 ± 2.74        39.46 ± 2.08     \n",
      "Hct (%)                   Control    38.9 ± 2.54        40.4 ± 2.67       40.68 ± 3.29         40.9 ± 4.04         40.94 ± 4.18        41.02 ± 3.54        40.7 ± 3.45         40.52 ± 3.07       40.2 ± 3.29      \n",
      "Plt (×103/μl)             Treatment  371.2 ± 87.08      353 ± 74.24       339 ± 80.56          347.6 ± 64.43       345.6 ± 58.65       361.8 ± 74.88       380.4 ± 75.92       374 ± 66.60        368.4 ± 61.05    \n",
      "Plt (×103/μl)             Control    339 ± 103.84       330.2 ± 111.21    322.4 ± 78.15        322 ± 104.41        324 ± 42.95         316.8 ± 70.25       337.2 ± 64.13       322.8 ± 74.38      332.4 ± 82.26    The transplant of BM-MSCs reduced the heterophil count following ARDS. Changes were significant at 12 h (p = 0.048), 24 h (p = 0.049), 48 h (p = 0.009), 72 h (p = 0.007), and 168 h (p = 0.024) against inflammation time (time 0). The comparison between two groups showed significant differences at 3 h (p = 0.020), 6 h (p = 0.042), 12 h (p = 0.030), 24 h (p = 0.001), and 48 h (p = 0.046) (Additional file 1: Figure S5).Comparison of heterophil band numbers between the two groups showed that cell transplant was affected at 48 h (p = 0.046), 72 h (p = 0.021), and 168 h (p = 0.038).Statistical analysis showed that there was no significant difference in the lymphocyte count, monocytes, platelets, hematocrit in or between the treatment and control groups during the study. There was a significant difference in the number of red blood cells (p = 0.007) and concentration of hemoglobin (p = 0.027) in the treatment group compared with the control group only at 48 h.In BAL, the total nucleated cell count included ciliated epithelial cells, squamous epithelial cells, alveolar macrophages, leukocytes, heterophils, eosinophils, and plasma cells. Typically, total leukocyte cells in treatment group included macrophages and lymphocytes, and in the control group, they included macrophages and heterophils (Fig. 2).The results demonstrated that the BAL cell count was significantly increased in inflammatory conditions, but transplant of stromal cells caused the inflammatory cells to balance so that, in the treatment group, decrease of the total cell count was significant at all times except time 0 (p < 0.05), and there was a significant reduction in the total cell count compared with the control group at 24 h (p = 0.045), 48 h (p = 0.46), and 72 h (p = 0.048). Also, BM-MSCs were able to significantly reduce the number of alveolar heterotrophs, as well as the number of macrophages in BAL, so that decrease of heterotrophs was significant at 12 h (p = 0.03), 24 h (p = 0.01), 48 h, 72 h, and 168 h (p = 0.000) against inflammation time and at 48 h (p = 0.049), 72 h (p = 0.031), and 168 h (p = 0.042) compared with the control group. Also, reduction in macrophages was significant at 72 h (p = 0.033) and 168 h (p = 0.005) compared with time 0. No significant change in the number of lymphocytes was observed in or between the two groups (Fig. 3) (Additional file 1: Table S3).The partial pressure of oxygen (PO2) and O2 saturation (SatO2) levels were decreased, and partial pressure of carbon dioxide (PCO2) levels were increased, in ARDS (time 0) compared with baseline (− 24 h), significantly. Following BM-MSC transplant, PO2 increment was significant at 12 h (p = 0.043), 24 h (p = 0.005), and 48 h (p = 0.005), and comparison between the two groups demonstrated that severe hypoxemia was significantly recovered after transplant at 12 h (p = 0.027), 24 h (p = 0.042), and 48 h (p = 0.040).Also, following transplant of BM-MSCs, changes of SatO2 were significant at 12 h (p = 0.038), 24 h (p = 0.030), 48 h (p = 0.009), 72 h (p = 0.007), and 168 h (p = 0.024) compared with time 0, and comparison of the two groups showed that cell transplant was effective at 3 h (p = 0.020), 6 h (p = 0.042), 12 h (p = 0.030), 24 h (p = 0.001), and 48 h (p = 0.046) (Additional file 1: Table S4).Additionally, PCO2 was significantly decreased in the treatment group at 24 h (p = 0.036), 48 h (p = 0.034), and 72 h (p = 0.01) after transplant, and comparison between the two groups displayed a significant decrease of PCO2 at 48 h and 72 h (p = 0.016).Also, statistical analysis for pH value indicated significant differences between the two groups at 24 h (p = 0.019). Respiratory acidosis occurred in both groups at 3 and 6 h via pH decrease and increase in PCO2. Analysis of bicarbonate, base excess, and anion gap data showed no significant difference in and between the two groups (Fig. 4).The results showed nonsignificant reduction in the value of Na+, K+, and Cl− in and between the treatment and control groups at the different times and alone. There was a significant difference in the Cl− value in the treatment group compared with the control group at 24 h (p = 0.029) (Additional file 1: Table S5).Duplicated measurements of each variable were performed, and the average of the data was obtained. The measured cytokine levels in plasma and BAL samples at different times are shown in Additional file 1: Table S6. BM-MSC transplant decreased proinflammatory cytokines (TNF-α and IL-6) and increased anticytokine inflammation (IL-10) during endotoxin injury in plasma and BAL.After transplant of MSCs, the concentration of the TNF-α in BAL decreased at 12 h (p = 0.035), 24 h (p = 0.011), 48 h (p = 0.007), and 168 h (p = 0.014) compared with time 0, significantly, and comparison of the two groups showed that cell transplant was affected at times of 12 h (p = 0.031), 24 h (p = 0.018), 48 h (p = 0.009), and 168 h (p = 0.014). Also, the levels of TNF-α in plasma were recovered with MSCs at 24 h (p = 0.040), 48 h (p = 0.006), 72 h (p = 0.002), and 168 h (p = 0.003) against inflammation time (0 h), significantly, and comparison of the two groups showed significant difference at 72 h (p = 0.008) and 168 h (p = 0.025).The IL-6 concentration was downregulated by MSCs, so that the levels of IL-6 in the BAL were significantly lower at times of 12 h (p = 0.047), 24 h (p = 0.011), 48 h (p = 0.001), and 168 h (p = 0.041) than time 0. Comparison of the two groups indicated significant differences at 12 h (p = 0.032), 24 h (p = 0.018), 72 h (p = 0.041), and 168 h (p = 0.008). Also, the concentration of IL-6 was significant in plasma 48 h (p = 0.048) and 168 h (p = 0.001) after MSC transplant against the inflammation time (0 h), and comparison of the two groups showed that cell therapy was affected at 24 h (p = 0.001), 48 h (p = 0.005), and 168 h (p = 0.012). These results demonstrated the immunomodulatory potential of these BM-MSCs.In contrast, when MSCs were administered, IL-10 was significantly increased in the BAL and plasma. Concentration of IL-10 in BAL was significant at 12 h (p = 0.047), 24 h (p = 0.011), 48 h (p = 0.001), and 168 h (p = 0.041) compared with time 0, and comparison of the two groups showed significant differences at 12 h (p = 0.032), 24 h (p = 0.018), 72 h (p = 0.041), and 168 h (p = 0.008) (Fig. 5). Also, increase of IL-10 concentration in plasma was significant at 48 h (p = 0.047), 72 h (p = 0.044), and 168 h (p = 0.022) against time 0. MSCs also increased plasma IL-10 concentrations compared with control group at 48 h (p = 0.043) and 72 h (p = 0.029), significantly (Fig. 5), so that BMSCs reduced lung injury and inflammation via significant immunomodulatory properties and attenuated the severity of ARDS.Hounsfield units and volumes of the aerated and nonaerated areas of the right and left lungs were measured on CT scans. Quantitative estimation (the Hounsfield unit measurement) was done for different adjacent CT sections with the Leonardo workstation and software tools (Siemens). Lung parenchymal margins were manually demarcated, and then average Hounsfield units were obtained for each section. Also, the 3D pattern was observed for a better evaluation of the lung parenchyma (data not shown). These measurements demonstrated that Hounsfield units had increased 1 day after the experimental inflammation (before stromal cells therapy), which represents replacement of alveolar air with mucous and inflammatory cells (Fig. 6). A significant decrease in the Hounsfield units was seen at 48 h (p = 0.032), 72 h (p = 0.036), and 168 h (p = 0.025) post-transplant, which indicates an increase in aerated volume of the lung in the treatment group. Also, variation volumes were compared and showed that total lung volume (aerated + nonaerated + tissue + edematous fluids) in both groups increased after ARDS, but transplant of BM-MSCs had decreased the process at 72 h (p = 0.047) and 168 h (p = 0.027). On CT scans, most nonaerated areas were observed in lower lobes in the caudoventral area (Fig. 7 and Additional file 1: Table S7).The images and amounts of Doppler and M-mode echocardiographic parameters are shown in Additional file 1: Figure S6. The amounts of BAL and plasma cytokines of rabbits are shown in Fig. 6 and Table 2, respectively. Echocardiographic data showed no significant difference in the treatment group (BM-MSC recipients), but comparison of the two groups revealed that percentage ejection fraction at 72 h (p = 0.042) and 168 h (p = 0.038), percentage fractional shortening at 72 h (p = 0.049) and 168 h (p = 0.044), interventricular septal end diastole at 48 h (p = 0.014), 72 h (p = 0.038), and 168 h (p = 0.042), interventricular septal end systole at 24 h (p = 0.005), 48 h (p = 0.009), and 72 h (p = 0.010), left ventricular internal dimension systole at 72 h (p = 0.048) and 168 h (p = 0.022), aortic root diameter at 72 h (p = 0.027) and 168 h (p = 0.042), left atrial diameter at 168 h (p = 0.048), left ventricular outflow tract maximum velocity at 168 h (p = 0.041) and right ventricular outflow tract maximum velocity at 168 h (p = 0.039) had significant differences.Time (h)       \n",
      "Parameters     \n",
      "EDV (mm)       \n",
      "EDV (mm)       \n",
      "EF (%)         \n",
      "EF (%)         \n",
      "ESV (mm)       \n",
      "ESV (mm)       \n",
      "FS (%)         \n",
      "FS (%)         \n",
      "IVSd (mm)      \n",
      "IVSd (mm)      \n",
      "IVSs (mm)      \n",
      "IVSs (mm)      \n",
      "LVIDd (mm)     \n",
      "LVIDd (mm)     \n",
      "LVIDs (mm)     \n",
      "LVIDs (mm)     \n",
      "LVPWd          \n",
      "LVPWd          \n",
      "LVPWs          \n",
      "LVPWs          \n",
      "SV (ml)        \n",
      "SV (ml)        \n",
      "AO (mm)        \n",
      "AO (mm)        \n",
      "LA (mm)        \n",
      "LA (mm)        \n",
      "LA/AO          \n",
      "LA/AO          \n",
      "LVOTVmax (cm/s)\n",
      "LVOTVmax (cm/s)\n",
      "RVOTVmax (cm/s)\n",
      "RVOTVmax (cm/s)The macroscopic examination of the lungs showed hyperemia, hemorrhage, emphysema, edema, and hepatization in the control group (Fig. 8a), but brief hyperemia and edema were observed in the treatment group (Fig. 8f). Sections of the lung demonstrated different histopathological patterns between the control and treatment groups. Microscopically, lungs showed more severe damage in the control group than the treatment group as hemorrhage in parenchyma and alveoli, moderate to severe vascular hyperemia, moderate to severe interstitial pneumonia, severe alveolar injuries and edema, neutrophilic margination in the capillary vessels, abundant presence of inflammatory cells, epithelial cells and other cell debris (cellularity) in interstitial spaces and alveoli, and thickness of the alveolar septum (Fig. 8b–d). But treatment with BM-MSCs reduced the infiltration rate of inflammatory cells in the alveolar septum, hyperemia, hemorrhage, and edema, and lung structure was approximately normal and only slightly increased the thickness of the alveolar septum. Also, in most sections of the treatment group, injury in the bronchus, bronchioles, and vessels was not observed (Fig. 8g–i).In macroscopic observations of the heart, no lesions were found in both treatment and control groups, but in the microscopic examination of the heart sections in the control group, necroses were observed in a small number of myofibers (Fig. 8e), whereas in treatment group, no injury was observed (Fig. 8k).BM-MSCs are an ideal choice for cell therapy because there are fewer complications for cell isolation and also BM autologous cells that are capable of eliminating immune response and transplant rejection [22]. MSCs have positive effects in the repair of ARDS [23].Although fibroblasts play a role in normal and pathological repair, and an accumulation of fibrocytes, fibroblasts, and myofibroblasts in the alveolar compartment, leading to excessive deposition components of the extracellular matrix but also according to prior findings the effect of them remains controversial [23–25] and unknown, so that reduction of its deposition or enhancement of its degradation could be treatment strategies. [24]The results of this study showed that the BM-MSCs significantly decreased the severity of clinical symptoms induced by LPS, the number of inflammatory cells in blood and BAL, and balanced the values of arterial blood gases and cytokines. On the CT scans, a significant decrease in the Hounsfield units was observed, which is indicative of an increase in aerated volume of the lung in the treatment group. The echocardiographic parameters did not reveal a significant difference in the treatment group, and compared with the two groups together it was significant. Also, the histopathology demonstrated reduction in the infiltration of inflammatory cells and pulmonary hemorrhage and edema in the recipients of BM-MSCs.In natural conditions, cells from bone marrow migrated to chemotactic gradients, but the amount of engraftment was low, and use of exogenous stromal cells can be helpful to this mechanism. The exact mechanisms of MSCs’ actions are not precise [25], and sometimes the results of stromal cell research using animal models are incompatible with each other [23]. However, three mechanisms have been defined for MSCs’ actions consisting of differentiation, cell–cell contact and paracrine function via the soluble factors [25, 26]. Researchers are likely to focus on manipulation of inflammatory pathways and optimizing lung repair while preventing ARDS progression [6]; whereas management of inflammatory pathways forbids the development of ARDS, some researchers believe in the immunomodulatory effects of MSCs [6]. Most trials have used local delivery of autologous BM-MSCs with the aim increasing the concentration of growth factors and cytokines in damaged tissue to improve possible engraftment and repair [23]. For the first time, Gupta et al. reported effects of the local delivery of MSCs in ARDS that are consistent with this study [26].The anti-inflammatory role of MSCs may vary in humans and animals, but the useful effects of MSCs have been shown in several animal models [27] and indicate the significant role of identification feature of MSCs [22]. LPS of gram-negative bacterial wall binds to the CD14/TLR4/MD2 receptor complex, activating pathway and transcription of some inflammation- and apoptosis-related genes and activating innate immune response [18, 25] that produces the acute phase of ARDS. Therefore, the LPS-induced animal models could be suitable for cell therapy. In prior findings, only a few animal models have been used to investigate the mechanism of MSC therapy in ARDS, most of which used rat and mouse [25, 28–31]. Although animal models cannot show all complications of human ARDS, a rabbit can display important physiological and pathological features of human ARDS and can be useful for novel therapeutic strategies [18]. As previously described in this study, we used LPS from E. coli strain O55:B5to induce an experimental model of ARDS in the rabbit.Our results displayed inflammatory cells downregulated by BM-MSCs, which can improve the function of the alveolar-capillary membrane, in agreement with the results of Xiang et al. on improving pulmonary microvascular permeability with MSCs [32]. The reduction of heterophils, macrophages, and the number of total cells were observed in the treated group, unlike the results of other research [26]. The complete blood count findings indicated that despite intrapulmonary administration of LPS and MSCs, there is a relationship between the numbers of intravascular and intra-alveolar heterophils and lymphocytes. Direct administration of LPS effects on gas exchange process and induces acute hypoxemia [33]. The results of studies suggest that MSC transplant can improve hypoxemia via reducing alveolar-arterial oxygen gradient [29, 30] which is in agreement with the present study. But the research results of Moodley et al., (2016) conflicted with this study [27]. The difference in injury model and type of cell therapy may be the cause of the variable results. There are not any studies that have reported clinical signs, including HR, RR, and RT, after stromal cell therapy; this study is the first report in which clinical signs were evaluated using a previously described scoring system.The protective effects of BM-MSCs on ARDS are a result of the immune regulation function and inhibitory T-cell function [31]. Monocytes and macrophages can release inflammatory factors such as TNF-α that play a role in phagocytes of the necrotic and apoptotic cells [34]. Because MSC soluble factors may be the therapeutic basis of MSCs, this result is confirmed by recent reports that demonstrated immunomodulatory properties of MSCs [26]. MSCs’ effects are explained by a shift from a proinflammatory to an anti-inflammatory response [26]. Reduced cytokines of proinflammatory (TNF-α and IL-6) and increased cytokines of anti-inflammatory (IL-10) in BAL and plasma samples play principal roles in the treatment mechanism of ARDS [26, 29, 30]. In the present study, the TNF-α concentration decreased following MSC therapy, which is similar to many studies [31]. The IL-10 level increased after the use of MSCs and inhibited antigen-presenting cell function and inflammation and enhanced tolerance, but our findings are not similar to some other studies [26, 30]. Beneficial effects of MSCs may be mediated by a decrease of TNF that indicated the attenuation of the inflammation [26]. Prostaglandin E2 (PGE2) has a critical role in IL-10 and IL-6 secretion from macrophages [31]. It is possible that TNF- and IL-6-dependent PGE2 production plays a major role as a clinical sign and in particular hyperthermia in the acute phase of inflammation [34]. TNF has roles in local inflammation complications such as leukocyte stimulation (neutrophils and macrophage) in BAL and lung endothelium that was shown in the pathology. Also, TNF has roles in systemic complications such as hyperthermia, C-reactive protein, leukocytosis, necrosis, and apoptosis, decreasing appetite, and even decreases of cardiac output and vascular permeability and increases in edema and hypotension.In this study, CT scans and echocardiography were used to follow improvement and management of ARDS during BM-MSC therapy. One particular feature of ARDS is lack of aerated lung volume caused by inflammation and edema, and total lung volume reduction (air + parenchyma) mostly in the lower lobes can explain hypoxemia, low respiratory compliance, and alveolar dead space and increased pulmonary vascular permeability [35, 36]. CT scanning is a common clinical diagnostic tool, a specific, repeatable, and noninvasive technique for diagnosis that until now has rarely been used as a research tool, and there is not any valid data of the distribution region of the existence or absence of air in alveolus during ARDS and especially after cell-based therapy. Our findings based on CT scanning are matched with the diagnosis of pathology and all the other outcomes. Therefore, it can be said that CT scanning is a suitable method for evaluation of the stromal cell therapy effects in pulmonary inflammation and edema, but further studies are needed in this field. Interactions between lung, right ventricle, and pulmonary circulation are critical in ARDS. Serial echocardiographic measurements have a potential clinical diagnosis in the early stage ARDS as a prognostic and therapeutic method. We showed that ARDS causes changes in echocardiographic parameters and reduces cardiac function, whereas transplant of BM-MSCs was able to prevent these changes.We demonstrated that MSCs could attenuate the inflammation by reducing pathological lung changes [31], but in some research, no significant data were reported regarding pathology. This variation may be caused by short study duration so that further studies are needed. Our histopathological examination, like other findings from imaging and all of the laboratory results, showed that BM-MSC transplant could improve ARDS.Many studies on cell-based therapies in ARDS have been done, but most of them focused on molecular and signal tests. Although these studies could clear pathways, they are still far from tissue function. In this study, we tried to explain the MSCs’ effects on organ function. We investigated effects of BM-MSCs in an experimental model of ARDS and confirmed that MSCs decrease inflammation and improve alveolar fluid clearance and have a protective role in ARDS. Improvement in clinical signs, the decrease of inflammatory cells in blood and BAL, the balance in blood gases and cytokines, the decrease in the Hounsfield units, no changes in echocardiographic parameters. and the reduction of pulmonary hemorrhage and edema in pathology were observed. Despite these results, subsequent studies are required to confirm the decrease in inflammation, and physiological parameters over the long term and many experiments should be performed until stromal cell therapy is validated as a method of routine clinical treatment.\n"
     ]
    }
   ],
   "source": [
    "print(''.join(article.get_flat_text(sections=['Results', 'Discussion', 'Conclusions'])))"
   ]
  },
  {
   "cell_type": "markdown",
   "metadata": {
    "slideshow": {
     "slide_type": "slide"
    }
   },
   "source": [
    "![uml](data/classes.png)"
   ]
  }
 ],
 "metadata": {
  "kernelspec": {
   "display_name": "pubmedpy",
   "language": "python",
   "name": "pubmedpy"
  },
  "language_info": {
   "codemirror_mode": {
    "name": "ipython",
    "version": 3
   },
   "file_extension": ".py",
   "mimetype": "text/x-python",
   "name": "python",
   "nbconvert_exporter": "python",
   "pygments_lexer": "ipython3",
   "version": "3.6.9"
  }
 },
 "nbformat": 4,
 "nbformat_minor": 4
}
